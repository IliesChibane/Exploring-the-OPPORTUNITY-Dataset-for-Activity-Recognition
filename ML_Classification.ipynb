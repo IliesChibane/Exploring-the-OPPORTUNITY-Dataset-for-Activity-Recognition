{
 "cells": [
  {
   "cell_type": "markdown",
   "metadata": {},
   "source": [
    "<center><h1>Projet Robotique</h1></center>\n",
    "<center><h2>Classification via le Machine learning</h2></center>"
   ]
  },
  {
   "cell_type": "markdown",
   "metadata": {},
   "source": [
    "# Importation des librairies"
   ]
  },
  {
   "cell_type": "code",
   "execution_count": 3,
   "metadata": {},
   "outputs": [
    {
     "name": "stdout",
     "output_type": "stream",
     "text": [
      "Requirement already satisfied: bayesian-optimization in c:\\users\\ilies\\appdata\\local\\packages\\pythonsoftwarefoundation.python.3.11_qbz5n2kfra8p0\\localcache\\local-packages\\python311\\site-packages (1.4.3)\n",
      "Requirement already satisfied: numpy>=1.9.0 in c:\\users\\ilies\\appdata\\local\\packages\\pythonsoftwarefoundation.python.3.11_qbz5n2kfra8p0\\localcache\\local-packages\\python311\\site-packages (from bayesian-optimization) (1.24.3)\n",
      "Requirement already satisfied: scipy>=1.0.0 in c:\\users\\ilies\\appdata\\local\\packages\\pythonsoftwarefoundation.python.3.11_qbz5n2kfra8p0\\localcache\\local-packages\\python311\\site-packages (from bayesian-optimization) (1.11.2)\n",
      "Requirement already satisfied: scikit-learn>=0.18.0 in c:\\users\\ilies\\appdata\\local\\packages\\pythonsoftwarefoundation.python.3.11_qbz5n2kfra8p0\\localcache\\local-packages\\python311\\site-packages (from bayesian-optimization) (1.3.0)\n",
      "Requirement already satisfied: colorama>=0.4.6 in c:\\users\\ilies\\appdata\\local\\packages\\pythonsoftwarefoundation.python.3.11_qbz5n2kfra8p0\\localcache\\local-packages\\python311\\site-packages (from bayesian-optimization) (0.4.6)\n",
      "Requirement already satisfied: joblib>=1.1.1 in c:\\users\\ilies\\appdata\\local\\packages\\pythonsoftwarefoundation.python.3.11_qbz5n2kfra8p0\\localcache\\local-packages\\python311\\site-packages (from scikit-learn>=0.18.0->bayesian-optimization) (1.3.2)\n",
      "Requirement already satisfied: threadpoolctl>=2.0.0 in c:\\users\\ilies\\appdata\\local\\packages\\pythonsoftwarefoundation.python.3.11_qbz5n2kfra8p0\\localcache\\local-packages\\python311\\site-packages (from scikit-learn>=0.18.0->bayesian-optimization) (3.2.0)\n",
      "Note: you may need to restart the kernel to use updated packages.\n"
     ]
    }
   ],
   "source": [
    "!pip install bayesian-optimization"
   ]
  },
  {
   "cell_type": "code",
   "execution_count": 5,
   "metadata": {},
   "outputs": [],
   "source": [
    "import pandas as pd\n",
    "import numpy as np\n",
    "from matplotlib import pyplot as plt\n",
    "import seaborn as sns\n",
    "\n",
    "from sklearn.decomposition import PCA\n",
    "\n",
    "from sklearn import svm\n",
    "from sklearn.linear_model import LogisticRegression\n",
    "from sklearn.neighbors import KNeighborsClassifier\n",
    "from sklearn.ensemble import RandomForestClassifier\n",
    "from sklearn.naive_bayes import GaussianNB\n",
    "from sklearn.tree import DecisionTreeClassifier\n",
    "from sklearn.discriminant_analysis import LinearDiscriminantAnalysis, QuadraticDiscriminantAnalysis\n",
    "\n",
    "from bayes_opt import BayesianOptimization\n",
    "\n",
    "from sklearn.model_selection import train_test_split\n",
    "from sklearn.metrics import accuracy_score, precision_score, recall_score, f1_score\n",
    "from sklearn.metrics import confusion_matrix\n",
    "\n",
    "import warnings\n",
    "warnings.filterwarnings('ignore')"
   ]
  },
  {
   "cell_type": "markdown",
   "metadata": {},
   "source": [
    "# Importation du dataset"
   ]
  },
  {
   "cell_type": "code",
   "execution_count": 12,
   "metadata": {},
   "outputs": [
    {
     "data": {
      "text/html": [
       "<div>\n",
       "<style scoped>\n",
       "    .dataframe tbody tr th:only-of-type {\n",
       "        vertical-align: middle;\n",
       "    }\n",
       "\n",
       "    .dataframe tbody tr th {\n",
       "        vertical-align: top;\n",
       "    }\n",
       "\n",
       "    .dataframe thead th {\n",
       "        text-align: right;\n",
       "    }\n",
       "</style>\n",
       "<table border=\"1\" class=\"dataframe\">\n",
       "  <thead>\n",
       "    <tr style=\"text-align: right;\">\n",
       "      <th></th>\n",
       "      <th>MILLISEC</th>\n",
       "      <th>Accelerometer RKN^ accX</th>\n",
       "      <th>Accelerometer RKN^ accY</th>\n",
       "      <th>Accelerometer RKN^ accZ</th>\n",
       "      <th>Accelerometer HIP accX</th>\n",
       "      <th>Accelerometer HIP accY</th>\n",
       "      <th>Accelerometer HIP accZ</th>\n",
       "      <th>Accelerometer LUA^ accX</th>\n",
       "      <th>Accelerometer LUA^ accY</th>\n",
       "      <th>Accelerometer LUA^ accZ</th>\n",
       "      <th>...</th>\n",
       "      <th>LOCATION TAG4 X</th>\n",
       "      <th>LOCATION TAG4 Y</th>\n",
       "      <th>LOCATION TAG4 Z</th>\n",
       "      <th>Locomotion</th>\n",
       "      <th>HL_Activity</th>\n",
       "      <th>LL_Left_Arm</th>\n",
       "      <th>LL_Left_Arm_Object</th>\n",
       "      <th>LL_Right_Arm</th>\n",
       "      <th>LL_Right_Arm_Object</th>\n",
       "      <th>ML_Both_Arms</th>\n",
       "    </tr>\n",
       "  </thead>\n",
       "  <tbody>\n",
       "    <tr>\n",
       "      <th>0</th>\n",
       "      <td>-1.585284</td>\n",
       "      <td>0.146747</td>\n",
       "      <td>0.337532</td>\n",
       "      <td>-1.410530</td>\n",
       "      <td>0.693260</td>\n",
       "      <td>0.434434</td>\n",
       "      <td>0.074936</td>\n",
       "      <td>-0.199117</td>\n",
       "      <td>0.621667</td>\n",
       "      <td>-0.455638</td>\n",
       "      <td>...</td>\n",
       "      <td>0.147947</td>\n",
       "      <td>0.811792</td>\n",
       "      <td>0.186199</td>\n",
       "      <td>0</td>\n",
       "      <td>0</td>\n",
       "      <td>0</td>\n",
       "      <td>0</td>\n",
       "      <td>0</td>\n",
       "      <td>0</td>\n",
       "      <td>0</td>\n",
       "    </tr>\n",
       "    <tr>\n",
       "      <th>1</th>\n",
       "      <td>-1.585185</td>\n",
       "      <td>0.263802</td>\n",
       "      <td>0.342378</td>\n",
       "      <td>-1.626921</td>\n",
       "      <td>0.626338</td>\n",
       "      <td>0.487110</td>\n",
       "      <td>0.200034</td>\n",
       "      <td>-0.108635</td>\n",
       "      <td>0.598101</td>\n",
       "      <td>-0.542260</td>\n",
       "      <td>...</td>\n",
       "      <td>0.147947</td>\n",
       "      <td>0.812691</td>\n",
       "      <td>0.178270</td>\n",
       "      <td>0</td>\n",
       "      <td>0</td>\n",
       "      <td>0</td>\n",
       "      <td>0</td>\n",
       "      <td>0</td>\n",
       "      <td>0</td>\n",
       "      <td>0</td>\n",
       "    </tr>\n",
       "    <tr>\n",
       "      <th>2</th>\n",
       "      <td>-1.585083</td>\n",
       "      <td>0.194202</td>\n",
       "      <td>0.371457</td>\n",
       "      <td>-1.735116</td>\n",
       "      <td>0.470187</td>\n",
       "      <td>0.527630</td>\n",
       "      <td>0.179184</td>\n",
       "      <td>-0.099275</td>\n",
       "      <td>0.709202</td>\n",
       "      <td>-0.572130</td>\n",
       "      <td>...</td>\n",
       "      <td>0.147947</td>\n",
       "      <td>0.814490</td>\n",
       "      <td>0.172322</td>\n",
       "      <td>0</td>\n",
       "      <td>0</td>\n",
       "      <td>0</td>\n",
       "      <td>0</td>\n",
       "      <td>0</td>\n",
       "      <td>0</td>\n",
       "      <td>0</td>\n",
       "    </tr>\n",
       "    <tr>\n",
       "      <th>3</th>\n",
       "      <td>-1.584985</td>\n",
       "      <td>0.058164</td>\n",
       "      <td>0.153369</td>\n",
       "      <td>-1.616313</td>\n",
       "      <td>0.618902</td>\n",
       "      <td>0.523578</td>\n",
       "      <td>0.210459</td>\n",
       "      <td>-0.152316</td>\n",
       "      <td>0.729402</td>\n",
       "      <td>-0.593039</td>\n",
       "      <td>...</td>\n",
       "      <td>0.147947</td>\n",
       "      <td>0.816289</td>\n",
       "      <td>0.172322</td>\n",
       "      <td>0</td>\n",
       "      <td>0</td>\n",
       "      <td>0</td>\n",
       "      <td>0</td>\n",
       "      <td>0</td>\n",
       "      <td>0</td>\n",
       "      <td>0</td>\n",
       "    </tr>\n",
       "    <tr>\n",
       "      <th>4</th>\n",
       "      <td>-1.584886</td>\n",
       "      <td>0.247984</td>\n",
       "      <td>0.290684</td>\n",
       "      <td>-1.705415</td>\n",
       "      <td>0.570570</td>\n",
       "      <td>0.535734</td>\n",
       "      <td>0.161809</td>\n",
       "      <td>-0.189757</td>\n",
       "      <td>0.709202</td>\n",
       "      <td>-0.634857</td>\n",
       "      <td>...</td>\n",
       "      <td>0.149055</td>\n",
       "      <td>0.818988</td>\n",
       "      <td>0.176287</td>\n",
       "      <td>0</td>\n",
       "      <td>0</td>\n",
       "      <td>0</td>\n",
       "      <td>0</td>\n",
       "      <td>0</td>\n",
       "      <td>0</td>\n",
       "      <td>0</td>\n",
       "    </tr>\n",
       "    <tr>\n",
       "      <th>...</th>\n",
       "      <td>...</td>\n",
       "      <td>...</td>\n",
       "      <td>...</td>\n",
       "      <td>...</td>\n",
       "      <td>...</td>\n",
       "      <td>...</td>\n",
       "      <td>...</td>\n",
       "      <td>...</td>\n",
       "      <td>...</td>\n",
       "      <td>...</td>\n",
       "      <td>...</td>\n",
       "      <td>...</td>\n",
       "      <td>...</td>\n",
       "      <td>...</td>\n",
       "      <td>...</td>\n",
       "      <td>...</td>\n",
       "      <td>...</td>\n",
       "      <td>...</td>\n",
       "      <td>...</td>\n",
       "      <td>...</td>\n",
       "      <td>...</td>\n",
       "    </tr>\n",
       "    <tr>\n",
       "      <th>606043</th>\n",
       "      <td>1.407215</td>\n",
       "      <td>0.640278</td>\n",
       "      <td>0.298761</td>\n",
       "      <td>-0.141884</td>\n",
       "      <td>0.358651</td>\n",
       "      <td>0.102168</td>\n",
       "      <td>0.787298</td>\n",
       "      <td>0.418657</td>\n",
       "      <td>0.540867</td>\n",
       "      <td>-0.067329</td>\n",
       "      <td>...</td>\n",
       "      <td>0.129671</td>\n",
       "      <td>0.139901</td>\n",
       "      <td>0.208006</td>\n",
       "      <td>0</td>\n",
       "      <td>0</td>\n",
       "      <td>0</td>\n",
       "      <td>0</td>\n",
       "      <td>0</td>\n",
       "      <td>0</td>\n",
       "      <td>0</td>\n",
       "    </tr>\n",
       "    <tr>\n",
       "      <th>606044</th>\n",
       "      <td>1.407317</td>\n",
       "      <td>0.437804</td>\n",
       "      <td>0.297145</td>\n",
       "      <td>-0.020960</td>\n",
       "      <td>0.291729</td>\n",
       "      <td>0.102168</td>\n",
       "      <td>0.776873</td>\n",
       "      <td>0.452977</td>\n",
       "      <td>0.483633</td>\n",
       "      <td>-0.195770</td>\n",
       "      <td>...</td>\n",
       "      <td>0.129117</td>\n",
       "      <td>0.138102</td>\n",
       "      <td>0.206023</td>\n",
       "      <td>0</td>\n",
       "      <td>0</td>\n",
       "      <td>0</td>\n",
       "      <td>0</td>\n",
       "      <td>0</td>\n",
       "      <td>0</td>\n",
       "      <td>0</td>\n",
       "    </tr>\n",
       "    <tr>\n",
       "      <th>606045</th>\n",
       "      <td>1.407416</td>\n",
       "      <td>0.678242</td>\n",
       "      <td>0.240604</td>\n",
       "      <td>-0.001866</td>\n",
       "      <td>0.143014</td>\n",
       "      <td>0.110272</td>\n",
       "      <td>0.915871</td>\n",
       "      <td>0.393696</td>\n",
       "      <td>0.503833</td>\n",
       "      <td>-0.195770</td>\n",
       "      <td>...</td>\n",
       "      <td>0.129117</td>\n",
       "      <td>0.136303</td>\n",
       "      <td>0.202059</td>\n",
       "      <td>0</td>\n",
       "      <td>0</td>\n",
       "      <td>0</td>\n",
       "      <td>0</td>\n",
       "      <td>0</td>\n",
       "      <td>0</td>\n",
       "      <td>0</td>\n",
       "    </tr>\n",
       "    <tr>\n",
       "      <th>606046</th>\n",
       "      <td>1.407514</td>\n",
       "      <td>1.155955</td>\n",
       "      <td>0.159831</td>\n",
       "      <td>-0.046417</td>\n",
       "      <td>0.098399</td>\n",
       "      <td>0.256145</td>\n",
       "      <td>0.780348</td>\n",
       "      <td>0.362495</td>\n",
       "      <td>0.577900</td>\n",
       "      <td>-0.276418</td>\n",
       "      <td>...</td>\n",
       "      <td>0.129671</td>\n",
       "      <td>0.134504</td>\n",
       "      <td>0.200076</td>\n",
       "      <td>0</td>\n",
       "      <td>0</td>\n",
       "      <td>0</td>\n",
       "      <td>0</td>\n",
       "      <td>0</td>\n",
       "      <td>0</td>\n",
       "      <td>0</td>\n",
       "    </tr>\n",
       "    <tr>\n",
       "      <th>606047</th>\n",
       "      <td>1.407616</td>\n",
       "      <td>0.323912</td>\n",
       "      <td>0.445768</td>\n",
       "      <td>-0.018838</td>\n",
       "      <td>0.131860</td>\n",
       "      <td>0.199417</td>\n",
       "      <td>0.915871</td>\n",
       "      <td>0.318815</td>\n",
       "      <td>0.651968</td>\n",
       "      <td>-0.106160</td>\n",
       "      <td>...</td>\n",
       "      <td>0.130224</td>\n",
       "      <td>0.133605</td>\n",
       "      <td>0.198094</td>\n",
       "      <td>0</td>\n",
       "      <td>0</td>\n",
       "      <td>0</td>\n",
       "      <td>0</td>\n",
       "      <td>0</td>\n",
       "      <td>0</td>\n",
       "      <td>0</td>\n",
       "    </tr>\n",
       "  </tbody>\n",
       "</table>\n",
       "<p>606048 rows × 250 columns</p>\n",
       "</div>"
      ],
      "text/plain": [
       "        MILLISEC  Accelerometer RKN^ accX  Accelerometer RKN^ accY  \\\n",
       "0      -1.585284                 0.146747                 0.337532   \n",
       "1      -1.585185                 0.263802                 0.342378   \n",
       "2      -1.585083                 0.194202                 0.371457   \n",
       "3      -1.584985                 0.058164                 0.153369   \n",
       "4      -1.584886                 0.247984                 0.290684   \n",
       "...          ...                      ...                      ...   \n",
       "606043  1.407215                 0.640278                 0.298761   \n",
       "606044  1.407317                 0.437804                 0.297145   \n",
       "606045  1.407416                 0.678242                 0.240604   \n",
       "606046  1.407514                 1.155955                 0.159831   \n",
       "606047  1.407616                 0.323912                 0.445768   \n",
       "\n",
       "        Accelerometer RKN^ accZ  Accelerometer HIP accX  \\\n",
       "0                     -1.410530                0.693260   \n",
       "1                     -1.626921                0.626338   \n",
       "2                     -1.735116                0.470187   \n",
       "3                     -1.616313                0.618902   \n",
       "4                     -1.705415                0.570570   \n",
       "...                         ...                     ...   \n",
       "606043                -0.141884                0.358651   \n",
       "606044                -0.020960                0.291729   \n",
       "606045                -0.001866                0.143014   \n",
       "606046                -0.046417                0.098399   \n",
       "606047                -0.018838                0.131860   \n",
       "\n",
       "        Accelerometer HIP accY  Accelerometer HIP accZ  \\\n",
       "0                     0.434434                0.074936   \n",
       "1                     0.487110                0.200034   \n",
       "2                     0.527630                0.179184   \n",
       "3                     0.523578                0.210459   \n",
       "4                     0.535734                0.161809   \n",
       "...                        ...                     ...   \n",
       "606043                0.102168                0.787298   \n",
       "606044                0.102168                0.776873   \n",
       "606045                0.110272                0.915871   \n",
       "606046                0.256145                0.780348   \n",
       "606047                0.199417                0.915871   \n",
       "\n",
       "        Accelerometer LUA^ accX  Accelerometer LUA^ accY  \\\n",
       "0                     -0.199117                 0.621667   \n",
       "1                     -0.108635                 0.598101   \n",
       "2                     -0.099275                 0.709202   \n",
       "3                     -0.152316                 0.729402   \n",
       "4                     -0.189757                 0.709202   \n",
       "...                         ...                      ...   \n",
       "606043                 0.418657                 0.540867   \n",
       "606044                 0.452977                 0.483633   \n",
       "606045                 0.393696                 0.503833   \n",
       "606046                 0.362495                 0.577900   \n",
       "606047                 0.318815                 0.651968   \n",
       "\n",
       "        Accelerometer LUA^ accZ  ...  LOCATION TAG4 X  LOCATION TAG4 Y  \\\n",
       "0                     -0.455638  ...         0.147947         0.811792   \n",
       "1                     -0.542260  ...         0.147947         0.812691   \n",
       "2                     -0.572130  ...         0.147947         0.814490   \n",
       "3                     -0.593039  ...         0.147947         0.816289   \n",
       "4                     -0.634857  ...         0.149055         0.818988   \n",
       "...                         ...  ...              ...              ...   \n",
       "606043                -0.067329  ...         0.129671         0.139901   \n",
       "606044                -0.195770  ...         0.129117         0.138102   \n",
       "606045                -0.195770  ...         0.129117         0.136303   \n",
       "606046                -0.276418  ...         0.129671         0.134504   \n",
       "606047                -0.106160  ...         0.130224         0.133605   \n",
       "\n",
       "        LOCATION TAG4 Z  Locomotion  HL_Activity  LL_Left_Arm  \\\n",
       "0              0.186199           0            0            0   \n",
       "1              0.178270           0            0            0   \n",
       "2              0.172322           0            0            0   \n",
       "3              0.172322           0            0            0   \n",
       "4              0.176287           0            0            0   \n",
       "...                 ...         ...          ...          ...   \n",
       "606043         0.208006           0            0            0   \n",
       "606044         0.206023           0            0            0   \n",
       "606045         0.202059           0            0            0   \n",
       "606046         0.200076           0            0            0   \n",
       "606047         0.198094           0            0            0   \n",
       "\n",
       "        LL_Left_Arm_Object  LL_Right_Arm  LL_Right_Arm_Object  ML_Both_Arms  \n",
       "0                        0             0                    0             0  \n",
       "1                        0             0                    0             0  \n",
       "2                        0             0                    0             0  \n",
       "3                        0             0                    0             0  \n",
       "4                        0             0                    0             0  \n",
       "...                    ...           ...                  ...           ...  \n",
       "606043                   0             0                    0             0  \n",
       "606044                   0             0                    0             0  \n",
       "606045                   0             0                    0             0  \n",
       "606046                   0             0                    0             0  \n",
       "606047                   0             0                    0             0  \n",
       "\n",
       "[606048 rows x 250 columns]"
      ]
     },
     "execution_count": 12,
     "metadata": {},
     "output_type": "execute_result"
    }
   ],
   "source": [
    "df = pd.read_csv('preprocessed_data.csv')\n",
    "\n",
    "df"
   ]
  },
  {
   "cell_type": "markdown",
   "metadata": {},
   "source": [
    "# Fonctions diverses"
   ]
  },
  {
   "cell_type": "markdown",
   "metadata": {},
   "source": [
    "# Fonctions de feature selection"
   ]
  },
  {
   "cell_type": "code",
   "execution_count": 6,
   "metadata": {},
   "outputs": [],
   "source": [
    "def dim_reduction(df, n):\n",
    "  pca = PCA(n_components=n)\n",
    "  pca.fit(df)\n",
    "  reducted_df = pca.fit_transform(df)\n",
    "  columns_name = ['column'+str(i) for i in range(1, pca.n_components_+1)]\n",
    "  return pd.DataFrame(reducted_df, columns=columns_name)\n"
   ]
  },
  {
   "cell_type": "code",
   "execution_count": 7,
   "metadata": {},
   "outputs": [],
   "source": [
    "def correlation(dataset, cor):\n",
    "    df = dataset.copy()\n",
    "    col_corr = set()  # For storing unique value\n",
    "    corr_matrix = dataset.corr()\n",
    "    for i in range(len(corr_matrix.columns)):\n",
    "        for j in range(i):\n",
    "            if abs(corr_matrix.iloc[i, j]) > cor: # absolute values to handle positive and negative correlations\n",
    "                colname = corr_matrix.columns[i]\n",
    "                col_corr.add(colname)\n",
    "    df.drop(col_corr,axis = 1,inplace = True)\n",
    "    return df"
   ]
  },
  {
   "cell_type": "markdown",
   "metadata": {},
   "source": [
    "## Fonction de segmentation du dataset  "
   ]
  },
  {
   "cell_type": "code",
   "execution_count": 8,
   "metadata": {},
   "outputs": [],
   "source": [
    "def data_segmentation(dataCollection, window_size, label): # segment the data and create a dataset with locomotion classes as labels\n",
    "\n",
    "    loco_i = dataCollection.columns.get_loc(label)\n",
    "    #convert the data frame to numpy array\n",
    "    data = dataCollection.to_numpy()\n",
    "    #segment the data\n",
    "    n = len(data)\n",
    "    X = []\n",
    "    y = []\n",
    "    start = 0\n",
    "    end = 0\n",
    "\n",
    "    while start + window_size - 1 < n:\n",
    "        end = start + window_size-1\n",
    "        if data[start][loco_i] == data[end][loco_i] and data[start][-1] == data[end][-1] : # if the frame contains the same activity and from the file\n",
    "            X.append(data[start:(end+1),:])\n",
    "            y.append(data[start][loco_i])\n",
    "            start += window_size//2 # 50% overlap\n",
    "        else: # if the frame contains different activities or from different objects, find the next start point\n",
    "            while start + window_size-1 < n:\n",
    "                if data[start][loco_i] != data[start+1][loco_i]:\n",
    "                    break\n",
    "                start += 1\n",
    "            start += 1\n",
    "\n",
    "    return np.asarray(X), np.asarray(y)"
   ]
  },
  {
   "cell_type": "markdown",
   "metadata": {},
   "source": [
    "# Modèles de machine learning"
   ]
  },
  {
   "cell_type": "markdown",
   "metadata": {},
   "source": [
    "## Logistic Regression"
   ]
  },
  {
   "cell_type": "code",
   "execution_count": 9,
   "metadata": {},
   "outputs": [],
   "source": [
    "def my_logistic_regression(X_train, y_train, C):\n",
    "    model = LogisticRegression(C=C, max_iter=10000)\n",
    "    model.fit(X_train, y_train)\n",
    "    return model"
   ]
  },
  {
   "cell_type": "code",
   "execution_count": 10,
   "metadata": {},
   "outputs": [],
   "source": [
    "def pipeline_lr(method, tresh, C):\n",
    "         \n",
    "    if method <= 1:\n",
    "        dataset = dim_reduction(df[df.columns[:-7]], tresh)\n",
    "    elif method <= 2:\n",
    "        dataset = correlation(df[df.columns[:-7]], tresh)\n",
    "\n",
    "    labels = df[df.columns[-7:]]\n",
    "    dataset = pd.concat([dataset, labels], axis=1)\n",
    "\n",
    "    X, y = data_segmentation(dataCollection=dataset, window_size=25, label='HL_Activity')\n",
    "    X_train, X_test, y_train, y_test = train_test_split(X.mean(axis=1), y, test_size=0.2, random_state=42)\n",
    "    \n",
    "    model = my_logistic_regression(X_train, y_train, C)\n",
    "    y_pred = model.predict(X_test)\n",
    "    return accuracy_score(y_test, y_pred)"
   ]
  },
  {
   "cell_type": "code",
   "execution_count": 13,
   "metadata": {},
   "outputs": [
    {
     "name": "stdout",
     "output_type": "stream",
     "text": [
      "|   iter    |  target   |     C     |  method   |   tresh   |\n",
      "-------------------------------------------------------------\n",
      "| \u001b[0m1        \u001b[0m | \u001b[0m0.9976   \u001b[0m | \u001b[0m4.17     \u001b[0m | \u001b[0m1.441    \u001b[0m | \u001b[0m0.1001   \u001b[0m |\n",
      "| \u001b[0m2        \u001b[0m | \u001b[0m0.9976   \u001b[0m | \u001b[0m3.023    \u001b[0m | \u001b[0m0.2935   \u001b[0m | \u001b[0m0.1822   \u001b[0m |\n",
      "| \u001b[0m3        \u001b[0m | \u001b[0m0.9976   \u001b[0m | \u001b[0m1.863    \u001b[0m | \u001b[0m0.6911   \u001b[0m | \u001b[0m0.4531   \u001b[0m |\n",
      "| \u001b[0m4        \u001b[0m | \u001b[0m0.9976   \u001b[0m | \u001b[0m5.388    \u001b[0m | \u001b[0m0.8384   \u001b[0m | \u001b[0m0.7098   \u001b[0m |\n",
      "| \u001b[0m5        \u001b[0m | \u001b[0m0.9976   \u001b[0m | \u001b[0m2.045    \u001b[0m | \u001b[0m1.756    \u001b[0m | \u001b[0m0.1244   \u001b[0m |\n",
      "| \u001b[0m6        \u001b[0m | \u001b[0m0.9976   \u001b[0m | \u001b[0m6.705    \u001b[0m | \u001b[0m0.8346   \u001b[0m | \u001b[0m0.5972   \u001b[0m |\n",
      "| \u001b[0m7        \u001b[0m | \u001b[0m0.9976   \u001b[0m | \u001b[0m1.404    \u001b[0m | \u001b[0m0.3962   \u001b[0m | \u001b[0m0.8127   \u001b[0m |\n",
      "| \u001b[0m8        \u001b[0m | \u001b[0m0.9976   \u001b[0m | \u001b[0m9.683    \u001b[0m | \u001b[0m0.6268   \u001b[0m | \u001b[0m0.7162   \u001b[0m |\n",
      "| \u001b[0m9        \u001b[0m | \u001b[0m0.9976   \u001b[0m | \u001b[0m8.764    \u001b[0m | \u001b[0m1.789    \u001b[0m | \u001b[0m0.1757   \u001b[0m |\n",
      "| \u001b[0m10       \u001b[0m | \u001b[0m0.9976   \u001b[0m | \u001b[0m0.3905   \u001b[0m | \u001b[0m0.3397   \u001b[0m | \u001b[0m0.8815   \u001b[0m |\n",
      "| \u001b[0m11       \u001b[0m | \u001b[0m0.9976   \u001b[0m | \u001b[0m3.758    \u001b[0m | \u001b[0m1.58     \u001b[0m | \u001b[0m0.7893   \u001b[0m |\n",
      "| \u001b[0m12       \u001b[0m | \u001b[0m0.9976   \u001b[0m | \u001b[0m5.323    \u001b[0m | \u001b[0m1.575    \u001b[0m | \u001b[0m0.2557   \u001b[0m |\n",
      "| \u001b[0m13       \u001b[0m | \u001b[0m0.9976   \u001b[0m | \u001b[0m5.958    \u001b[0m | \u001b[0m0.522    \u001b[0m | \u001b[0m0.7646   \u001b[0m |\n",
      "| \u001b[0m14       \u001b[0m | \u001b[0m0.9976   \u001b[0m | \u001b[0m2.275    \u001b[0m | \u001b[0m0.3112   \u001b[0m | \u001b[0m0.9431   \u001b[0m |\n",
      "| \u001b[0m15       \u001b[0m | \u001b[0m0.9976   \u001b[0m | \u001b[0m7.263    \u001b[0m | \u001b[0m1.457    \u001b[0m | \u001b[0m0.2733   \u001b[0m |\n",
      "| \u001b[0m16       \u001b[0m | \u001b[0m0.9976   \u001b[0m | \u001b[0m4.702    \u001b[0m | \u001b[0m0.847    \u001b[0m | \u001b[0m0.52     \u001b[0m |\n",
      "| \u001b[0m17       \u001b[0m | \u001b[0m0.9976   \u001b[0m | \u001b[0m9.998    \u001b[0m | \u001b[0m1.958    \u001b[0m | \u001b[0m0.7198   \u001b[0m |\n",
      "| \u001b[0m18       \u001b[0m | \u001b[0m0.9976   \u001b[0m | \u001b[0m4.887    \u001b[0m | \u001b[0m1.682    \u001b[0m | \u001b[0m0.9714   \u001b[0m |\n",
      "| \u001b[0m19       \u001b[0m | \u001b[0m0.9976   \u001b[0m | \u001b[0m3.225    \u001b[0m | \u001b[0m1.527    \u001b[0m | \u001b[0m0.8627   \u001b[0m |\n",
      "| \u001b[0m20       \u001b[0m | \u001b[0m0.9976   \u001b[0m | \u001b[0m8.549    \u001b[0m | \u001b[0m1.439    \u001b[0m | \u001b[0m0.9117   \u001b[0m |\n",
      "=============================================================\n",
      "{'target': 0.9975757575757576, 'params': {'C': 4.17022004702574, 'method': 1.4406489868843162, 'tresh': 0.10010179358743695}}\n"
     ]
    }
   ],
   "source": [
    "pbounds = {\n",
    "    'method': (0, 2),\n",
    "    'tresh': (0.1, 0.99),\n",
    "    'C': (0, 10)\n",
    "    }\n",
    "\n",
    "\n",
    "optimizer = BayesianOptimization(\n",
    "    f=pipeline_lr,\n",
    "    pbounds=pbounds,\n",
    "    verbose=2,\n",
    "    random_state=1,\n",
    ")\n",
    "\n",
    "optimizer.maximize(init_points=10, n_iter=10)\n",
    "print(optimizer.max)"
   ]
  },
  {
   "cell_type": "code",
   "execution_count": 53,
   "metadata": {},
   "outputs": [
    {
     "name": "stdout",
     "output_type": "stream",
     "text": [
      "Accuracy: 0.9975757575757576\n",
      "Precision: 0.9976139346218086\n",
      "Recall: 0.9975757575757576\n",
      "F1 Score: 0.9975828417669422\n"
     ]
    }
   ],
   "source": [
    "method = 1.44\n",
    "tresh = 0.23\n",
    "C = 4\n",
    "\n",
    "if method <= 1:\n",
    "    dataset = dim_reduction(df[df.columns[:-7]], tresh)\n",
    "elif method <= 2:\n",
    "    dataset = correlation(df[df.columns[:-7]], tresh)\n",
    "\n",
    "labels = df[df.columns[-7:]]\n",
    "dataset = pd.concat([dataset, labels], axis=1)\n",
    "\n",
    "X, y = data_segmentation(dataCollection=dataset, window_size=25, label='HL_Activity')\n",
    "\n",
    "# Split the dataset into training and testing sets\n",
    "X_train, X_test, y_train, y_test = train_test_split(X.mean(axis=1), y, test_size=0.2, random_state=42)\n",
    "\n",
    "# Create an instance of the logistic regression classifier\n",
    "clf = my_logistic_regression(X_train, y_train, C)\n",
    "\n",
    "# Predict the labels for the testing data\n",
    "y_pred = clf.predict(X_test)\n",
    "\n",
    "# Evaluate the performance of the classifier\n",
    "accuracy = accuracy_score(y_test, y_pred)\n",
    "precision = precision_score(y_test, y_pred, average='weighted')\n",
    "recall = recall_score(y_test, y_pred, average='weighted')\n",
    "f1 = f1_score(y_test, y_pred, average='weighted')\n",
    "\n",
    "# Print the evaluation metrics\n",
    "print(\"Accuracy:\", accuracy)\n",
    "print(\"Precision:\", precision)\n",
    "print(\"Recall:\", recall)\n",
    "print(\"F1 Score:\", f1)"
   ]
  },
  {
   "cell_type": "code",
   "execution_count": 54,
   "metadata": {},
   "outputs": [
    {
     "data": {
      "image/png": "[encoded data removed]",
      "text/plain": [
       "<Figure size 800x800 with 1 Axes>"
      ]
     },
     "metadata": {},
     "output_type": "display_data"
    }
   ],
   "source": [
    "# confusion matrix\n",
    "cm = confusion_matrix(y_test, y_pred)\n",
    "\n",
    "# plot the confusion matrix\n",
    "plt.figure(figsize=(8, 8))\n",
    "sns.heatmap(cm, annot=True, cmap='Blues', fmt='g', cbar=False)\n",
    "plt.xticks(np.arange(5)+0.5, ['Relaxing', 'Coffee time', 'Early morning', 'Cleanup', 'Sandwich time'], rotation=90)\n",
    "plt.yticks(np.arange(5)+0.5, ['Relaxing', 'Coffee time', 'Early morning', 'Cleanup', 'Sandwich time'], rotation=0)\n",
    "plt.xlabel(\"Predicted\")\n",
    "plt.ylabel(\"Actual\")\n",
    "plt.title(\"Confusion Matrix\")\n",
    "plt.show()"
   ]
  },
  {
   "cell_type": "markdown",
   "metadata": {},
   "source": [
    "## KNN"
   ]
  },
  {
   "cell_type": "code",
   "execution_count": 14,
   "metadata": {},
   "outputs": [],
   "source": [
    "def my_knn(X_train, y_train, n_neighbors):\n",
    "    model = KNeighborsClassifier(n_neighbors=n_neighbors)\n",
    "    model.fit(X_train, y_train)\n",
    "    return model"
   ]
  },
  {
   "cell_type": "code",
   "execution_count": 15,
   "metadata": {},
   "outputs": [],
   "source": [
    "def pipeline_knn(method, tresh, n_neighbors):\n",
    "         \n",
    "    if method <= 1:\n",
    "        dataset = dim_reduction(df[df.columns[:-7]], tresh)\n",
    "    elif method <= 2:\n",
    "        dataset = correlation(df[df.columns[:-7]], tresh)\n",
    "\n",
    "    labels = df[df.columns[-7:]]\n",
    "    dataset = pd.concat([dataset, labels], axis=1)\n",
    "\n",
    "    X, y = data_segmentation(dataCollection=dataset, window_size=25, label='HL_Activity')\n",
    "    X_train, X_test, y_train, y_test = train_test_split(X.mean(axis=1), y, test_size=0.2, random_state=42)\n",
    "    \n",
    "    model = my_knn(X_train, y_train, int(n_neighbors))\n",
    "    y_pred = model.predict(X_test)\n",
    "    return accuracy_score(y_test, y_pred)"
   ]
  },
  {
   "cell_type": "code",
   "execution_count": 16,
   "metadata": {},
   "outputs": [
    {
     "name": "stdout",
     "output_type": "stream",
     "text": [
      "|   iter    |  target   |  method   | n_neig... |   tresh   |\n",
      "-------------------------------------------------------------\n",
      "| \u001b[0m1        \u001b[0m | \u001b[0m0.9455   \u001b[0m | \u001b[0m0.834    \u001b[0m | \u001b[0m14.69    \u001b[0m | \u001b[0m0.1001   \u001b[0m |\n",
      "| \u001b[95m2        \u001b[0m | \u001b[95m0.9927   \u001b[0m | \u001b[95m0.6047   \u001b[0m | \u001b[95m3.788    \u001b[0m | \u001b[95m0.1822   \u001b[0m |\n",
      "| \u001b[0m3        \u001b[0m | \u001b[0m0.9709   \u001b[0m | \u001b[0m0.3725   \u001b[0m | \u001b[0m7.566    \u001b[0m | \u001b[0m0.4531   \u001b[0m |\n",
      "| \u001b[0m4        \u001b[0m | \u001b[0m0.9648   \u001b[0m | \u001b[0m1.078    \u001b[0m | \u001b[0m8.965    \u001b[0m | \u001b[0m0.7098   \u001b[0m |\n",
      "| \u001b[0m5        \u001b[0m | \u001b[0m0.9406   \u001b[0m | \u001b[0m0.4089   \u001b[0m | \u001b[0m17.68    \u001b[0m | \u001b[0m0.1244   \u001b[0m |\n",
      "| \u001b[0m6        \u001b[0m | \u001b[0m0.9648   \u001b[0m | \u001b[0m1.341    \u001b[0m | \u001b[0m8.929    \u001b[0m | \u001b[0m0.5972   \u001b[0m |\n",
      "| \u001b[0m7        \u001b[0m | \u001b[0m0.9842   \u001b[0m | \u001b[0m0.2808   \u001b[0m | \u001b[0m4.764    \u001b[0m | \u001b[0m0.8127   \u001b[0m |\n",
      "| \u001b[0m8        \u001b[0m | \u001b[0m0.9745   \u001b[0m | \u001b[0m1.937    \u001b[0m | \u001b[0m6.955    \u001b[0m | \u001b[0m0.7162   \u001b[0m |\n",
      "| \u001b[0m9        \u001b[0m | \u001b[0m0.9406   \u001b[0m | \u001b[0m1.753    \u001b[0m | \u001b[0m18.0     \u001b[0m | \u001b[0m0.1757   \u001b[0m |\n",
      "| \u001b[0m10       \u001b[0m | \u001b[0m0.9842   \u001b[0m | \u001b[0m0.07811  \u001b[0m | \u001b[0m4.227    \u001b[0m | \u001b[0m0.8815   \u001b[0m |\n",
      "| \u001b[95m11       \u001b[0m | \u001b[95m0.9939   \u001b[0m | \u001b[95m2.0      \u001b[0m | \u001b[95m1.0      \u001b[0m | \u001b[95m0.1      \u001b[0m |\n",
      "| \u001b[0m12       \u001b[0m | \u001b[0m0.9927   \u001b[0m | \u001b[0m2.0      \u001b[0m | \u001b[0m3.147    \u001b[0m | \u001b[0m0.1      \u001b[0m |\n",
      "| \u001b[0m13       \u001b[0m | \u001b[0m0.9939   \u001b[0m | \u001b[0m0.0      \u001b[0m | \u001b[0m1.0      \u001b[0m | \u001b[0m0.1      \u001b[0m |\n",
      "| \u001b[0m14       \u001b[0m | \u001b[0m0.9939   \u001b[0m | \u001b[0m0.9352   \u001b[0m | \u001b[0m1.978    \u001b[0m | \u001b[0m0.1      \u001b[0m |\n",
      "| \u001b[0m15       \u001b[0m | \u001b[0m0.9939   \u001b[0m | \u001b[0m1.391    \u001b[0m | \u001b[0m1.0      \u001b[0m | \u001b[0m0.99     \u001b[0m |\n",
      "| \u001b[0m16       \u001b[0m | \u001b[0m0.9939   \u001b[0m | \u001b[0m1.025    \u001b[0m | \u001b[0m1.008    \u001b[0m | \u001b[0m0.1125   \u001b[0m |\n",
      "| \u001b[0m17       \u001b[0m | \u001b[0m0.9939   \u001b[0m | \u001b[0m2.0      \u001b[0m | \u001b[0m1.0      \u001b[0m | \u001b[0m0.99     \u001b[0m |\n",
      "| \u001b[0m18       \u001b[0m | \u001b[0m0.9939   \u001b[0m | \u001b[0m0.0      \u001b[0m | \u001b[0m1.0      \u001b[0m | \u001b[0m0.99     \u001b[0m |\n",
      "| \u001b[0m19       \u001b[0m | \u001b[0m0.9927   \u001b[0m | \u001b[0m0.0      \u001b[0m | \u001b[0m2.3      \u001b[0m | \u001b[0m0.1      \u001b[0m |\n",
      "| \u001b[0m20       \u001b[0m | \u001b[0m0.9842   \u001b[0m | \u001b[0m1.556    \u001b[0m | \u001b[0m4.242    \u001b[0m | \u001b[0m0.1014   \u001b[0m |\n",
      "=============================================================\n",
      "{'target': 0.9939393939393939, 'params': {'method': 2.0, 'n_neighbors': 1.0, 'tresh': 0.1}}\n"
     ]
    }
   ],
   "source": [
    "pbounds = {\n",
    "    'method': (0, 2),\n",
    "    'tresh': (0.1, 0.99),\n",
    "    'n_neighbors': (1, 20)\n",
    "    }\n",
    "\n",
    "\n",
    "optimizer = BayesianOptimization(\n",
    "    f=pipeline_knn,\n",
    "    pbounds=pbounds,\n",
    "    verbose=2,\n",
    "    random_state=1,\n",
    ")\n",
    "\n",
    "optimizer.maximize(init_points=10, n_iter=10)\n",
    "print(optimizer.max)"
   ]
  },
  {
   "cell_type": "code",
   "execution_count": 50,
   "metadata": {},
   "outputs": [
    {
     "name": "stdout",
     "output_type": "stream",
     "text": [
      "Accuracy: 0.9939393939393939\n",
      "Precision: 0.9940991308433168\n",
      "Recall: 0.9939393939393939\n",
      "F1 Score: 0.9939640304412026\n"
     ]
    }
   ],
   "source": [
    "method = 1.44\n",
    "tresh = 0.23\n",
    "n_neighbors = 1.0\n",
    "\n",
    "if method <= 1:\n",
    "    dataset = dim_reduction(df[df.columns[:-7]], tresh)\n",
    "elif method <= 2:\n",
    "    dataset = correlation(df[df.columns[:-7]], tresh)\n",
    "\n",
    "labels = df[df.columns[-7:]]\n",
    "dataset = pd.concat([dataset, labels], axis=1)\n",
    "\n",
    "X, y = data_segmentation(dataCollection=dataset, window_size=25, label='HL_Activity')\n",
    "\n",
    "# Split the dataset into training and testing sets\n",
    "X_train, X_test, y_train, y_test = train_test_split(X.mean(axis=1), y, test_size=0.2, random_state=42)\n",
    "\n",
    "# Create an instance of the KNN classifier\n",
    "clf = my_knn(X_train, y_train, int(n_neighbors))\n",
    "\n",
    "# Predict the labels for the testing data\n",
    "y_pred = clf.predict(X_test)\n",
    "\n",
    "# Evaluate the performance of the classifier\n",
    "accuracy = accuracy_score(y_test, y_pred)\n",
    "precision = precision_score(y_test, y_pred, average='weighted')\n",
    "recall = recall_score(y_test, y_pred, average='weighted')\n",
    "f1 = f1_score(y_test, y_pred, average='weighted')\n",
    "\n",
    "# Print the evaluation metrics\n",
    "print(\"Accuracy:\", accuracy)\n",
    "print(\"Precision:\", precision)\n",
    "print(\"Recall:\", recall)\n",
    "print(\"F1 Score:\", f1)"
   ]
  },
  {
   "cell_type": "code",
   "execution_count": 51,
   "metadata": {},
   "outputs": [
    {
     "data": {
      "image/png": "[encoded data removed]",
      "text/plain": [
       "<Figure size 800x800 with 1 Axes>"
      ]
     },
     "metadata": {},
     "output_type": "display_data"
    }
   ],
   "source": [
    "# confusion matrix\n",
    "cm = confusion_matrix(y_test, y_pred)\n",
    "\n",
    "# plot the confusion matrix\n",
    "plt.figure(figsize=(8, 8))\n",
    "sns.heatmap(cm, annot=True, cmap='Blues', fmt='g', cbar=False)\n",
    "plt.xticks(np.arange(5)+0.5, ['Relaxing', 'Coffee time', 'Early morning', 'Cleanup', 'Sandwich time'], rotation=90)\n",
    "plt.yticks(np.arange(5)+0.5, ['Relaxing', 'Coffee time', 'Early morning', 'Cleanup', 'Sandwich time'], rotation=0)\n",
    "plt.xlabel(\"Predicted\")\n",
    "plt.ylabel(\"Actual\")\n",
    "plt.title(\"Confusion Matrix\")\n",
    "plt.show()"
   ]
  },
  {
   "cell_type": "markdown",
   "metadata": {},
   "source": [
    "## Naive Bayes"
   ]
  },
  {
   "cell_type": "code",
   "execution_count": 17,
   "metadata": {},
   "outputs": [],
   "source": [
    "def my_naive_bayes(X_train, y_train):\n",
    "    model = GaussianNB()\n",
    "    model.fit(X_train, y_train)\n",
    "    return model"
   ]
  },
  {
   "cell_type": "code",
   "execution_count": 18,
   "metadata": {},
   "outputs": [],
   "source": [
    "def pipeline_naive_bayes(method, tresh):\n",
    "         \n",
    "    if method <= 1:\n",
    "        dataset = dim_reduction(df[df.columns[:-7]], tresh)\n",
    "    elif method <= 2:\n",
    "        dataset = correlation(df[df.columns[:-7]], tresh)\n",
    "\n",
    "    labels = df[df.columns[-7:]]\n",
    "    dataset = pd.concat([dataset, labels], axis=1)\n",
    "\n",
    "    X, y = data_segmentation(dataCollection=dataset, window_size=25, label='HL_Activity')\n",
    "    X_train, X_test, y_train, y_test = train_test_split(X.mean(axis=1), y, test_size=0.2, random_state=42)\n",
    "    \n",
    "    model = my_naive_bayes(X_train, y_train)\n",
    "    y_pred = model.predict(X_test)\n",
    "    return accuracy_score(y_test, y_pred)"
   ]
  },
  {
   "cell_type": "code",
   "execution_count": 19,
   "metadata": {},
   "outputs": [
    {
     "name": "stdout",
     "output_type": "stream",
     "text": [
      "|   iter    |  target   |  method   |   tresh   |\n",
      "-------------------------------------------------\n",
      "| \u001b[0m1        \u001b[0m | \u001b[0m1.0      \u001b[0m | \u001b[0m0.834    \u001b[0m | \u001b[0m0.7411   \u001b[0m |\n",
      "| \u001b[0m2        \u001b[0m | \u001b[0m1.0      \u001b[0m | \u001b[0m0.0002287\u001b[0m | \u001b[0m0.3691   \u001b[0m |\n",
      "| \u001b[0m3        \u001b[0m | \u001b[0m1.0      \u001b[0m | \u001b[0m0.2935   \u001b[0m | \u001b[0m0.1822   \u001b[0m |\n",
      "| \u001b[0m4        \u001b[0m | \u001b[0m1.0      \u001b[0m | \u001b[0m0.3725   \u001b[0m | \u001b[0m0.4075   \u001b[0m |\n",
      "| \u001b[0m5        \u001b[0m | \u001b[0m1.0      \u001b[0m | \u001b[0m0.7935   \u001b[0m | \u001b[0m0.5795   \u001b[0m |\n",
      "| \u001b[0m6        \u001b[0m | \u001b[0m1.0      \u001b[0m | \u001b[0m0.8384   \u001b[0m | \u001b[0m0.7098   \u001b[0m |\n",
      "| \u001b[0m7        \u001b[0m | \u001b[0m1.0      \u001b[0m | \u001b[0m0.4089   \u001b[0m | \u001b[0m0.8815   \u001b[0m |\n",
      "| \u001b[0m8        \u001b[0m | \u001b[0m1.0      \u001b[0m | \u001b[0m0.05478  \u001b[0m | \u001b[0m0.6967   \u001b[0m |\n",
      "| \u001b[0m9        \u001b[0m | \u001b[0m1.0      \u001b[0m | \u001b[0m0.8346   \u001b[0m | \u001b[0m0.5972   \u001b[0m |\n",
      "| \u001b[0m10       \u001b[0m | \u001b[0m1.0      \u001b[0m | \u001b[0m0.2808   \u001b[0m | \u001b[0m0.2763   \u001b[0m |\n",
      "| \u001b[0m11       \u001b[0m | \u001b[0m1.0      \u001b[0m | \u001b[0m1.994    \u001b[0m | \u001b[0m0.9846   \u001b[0m |\n",
      "| \u001b[0m12       \u001b[0m | \u001b[0m1.0      \u001b[0m | \u001b[0m1.999    \u001b[0m | \u001b[0m0.1307   \u001b[0m |\n",
      "| \u001b[0m13       \u001b[0m | \u001b[0m1.0      \u001b[0m | \u001b[0m1.998    \u001b[0m | \u001b[0m0.1192   \u001b[0m |\n",
      "| \u001b[0m14       \u001b[0m | \u001b[0m1.0      \u001b[0m | \u001b[0m2.0      \u001b[0m | \u001b[0m0.9659   \u001b[0m |\n",
      "| \u001b[0m15       \u001b[0m | \u001b[0m1.0      \u001b[0m | \u001b[0m1.998    \u001b[0m | \u001b[0m0.1082   \u001b[0m |\n",
      "| \u001b[0m16       \u001b[0m | \u001b[0m1.0      \u001b[0m | \u001b[0m1.999    \u001b[0m | \u001b[0m0.9809   \u001b[0m |\n",
      "| \u001b[0m17       \u001b[0m | \u001b[0m1.0      \u001b[0m | \u001b[0m0.005558 \u001b[0m | \u001b[0m0.9739   \u001b[0m |\n",
      "| \u001b[0m18       \u001b[0m | \u001b[0m1.0      \u001b[0m | \u001b[0m1.997    \u001b[0m | \u001b[0m0.1096   \u001b[0m |\n",
      "| \u001b[0m19       \u001b[0m | \u001b[0m1.0      \u001b[0m | \u001b[0m0.000483 \u001b[0m | \u001b[0m0.1064   \u001b[0m |\n",
      "| \u001b[0m20       \u001b[0m | \u001b[0m1.0      \u001b[0m | \u001b[0m2.0      \u001b[0m | \u001b[0m0.9713   \u001b[0m |\n",
      "=================================================\n",
      "{'target': 1.0, 'params': {'method': 0.834044009405148, 'tresh': 0.7410887991635207}}\n"
     ]
    }
   ],
   "source": [
    "pbounds = {\n",
    "    'method': (0, 2),\n",
    "    'tresh': (0.1, 0.99),\n",
    "    }\n",
    "\n",
    "\n",
    "optimizer = BayesianOptimization(\n",
    "    f=pipeline_naive_bayes,\n",
    "    pbounds=pbounds,\n",
    "    verbose=2,\n",
    "    random_state=1,\n",
    ")\n",
    "\n",
    "optimizer.maximize(init_points=10, n_iter=10)\n",
    "print(optimizer.max)"
   ]
  },
  {
   "cell_type": "code",
   "execution_count": 56,
   "metadata": {},
   "outputs": [
    {
     "name": "stdout",
     "output_type": "stream",
     "text": [
      "Accuracy: 1.0\n",
      "Precision: 1.0\n",
      "Recall: 1.0\n",
      "F1 Score: 1.0\n"
     ]
    }
   ],
   "source": [
    "method = 1.44\n",
    "tresh = 0.23\n",
    "\n",
    "if method <= 1:\n",
    "    dataset = dim_reduction(df[df.columns[:-7]], tresh)\n",
    "elif method <= 2:\n",
    "    dataset = correlation(df[df.columns[:-7]], tresh)\n",
    "\n",
    "labels = df[df.columns[-7:]]\n",
    "dataset = pd.concat([dataset, labels], axis=1)\n",
    "\n",
    "X, y = data_segmentation(dataCollection=dataset, window_size=25, label='HL_Activity')\n",
    "\n",
    "# Split the dataset into training and testing sets\n",
    "X_train, X_test, y_train, y_test = train_test_split(X.mean(axis=1), y, test_size=0.2, random_state=42)\n",
    "\n",
    "# Create an instance of the Naive Bayes classifier\n",
    "clf = my_naive_bayes(X_train, y_train)\n",
    "\n",
    "# Predict the labels for the testing data\n",
    "y_pred = clf.predict(X_test)\n",
    "\n",
    "# Evaluate the performance of the classifier\n",
    "accuracy = accuracy_score(y_test, y_pred)\n",
    "precision = precision_score(y_test, y_pred, average='weighted')\n",
    "recall = recall_score(y_test, y_pred, average='weighted')\n",
    "f1 = f1_score(y_test, y_pred, average='weighted')\n",
    "\n",
    "# Print the evaluation metrics\n",
    "print(\"Accuracy:\", accuracy)\n",
    "print(\"Precision:\", precision)\n",
    "print(\"Recall:\", recall)\n",
    "print(\"F1 Score:\", f1)"
   ]
  },
  {
   "cell_type": "code",
   "execution_count": 57,
   "metadata": {},
   "outputs": [
    {
     "data": {
      "image/png": "[encoded data removed]",
      "text/plain": [
       "<Figure size 800x800 with 1 Axes>"
      ]
     },
     "metadata": {},
     "output_type": "display_data"
    }
   ],
   "source": [
    "# confusion matrix\n",
    "cm = confusion_matrix(y_test, y_pred)\n",
    "\n",
    "# plot the confusion matrix\n",
    "plt.figure(figsize=(8, 8))\n",
    "sns.heatmap(cm, annot=True, cmap='Blues', fmt='g', cbar=False)\n",
    "plt.xticks(np.arange(5)+0.5, ['Relaxing', 'Coffee time', 'Early morning', 'Cleanup', 'Sandwich time'], rotation=90)\n",
    "plt.yticks(np.arange(5)+0.5, ['Relaxing', 'Coffee time', 'Early morning', 'Cleanup', 'Sandwich time'], rotation=0)\n",
    "plt.xlabel(\"Predicted\")\n",
    "plt.ylabel(\"Actual\")\n",
    "plt.title(\"Confusion Matrix\")\n",
    "plt.show()"
   ]
  },
  {
   "cell_type": "markdown",
   "metadata": {},
   "source": [
    "# QDA"
   ]
  },
  {
   "cell_type": "code",
   "execution_count": 23,
   "metadata": {},
   "outputs": [],
   "source": [
    "def my_qda(X_train, y_train):\n",
    "    model = QuadraticDiscriminantAnalysis()\n",
    "    model.fit(X_train, y_train)\n",
    "    return model"
   ]
  },
  {
   "cell_type": "code",
   "execution_count": 24,
   "metadata": {},
   "outputs": [],
   "source": [
    "def pipeline_qda(method, tresh):\n",
    "         \n",
    "    if method <= 1:\n",
    "        dataset = dim_reduction(df[df.columns[:-7]], tresh)\n",
    "    elif method <= 2:\n",
    "        dataset = correlation(df[df.columns[:-7]], tresh)\n",
    "\n",
    "    labels = df[df.columns[-7:]]\n",
    "    dataset = pd.concat([dataset, labels], axis=1)\n",
    "\n",
    "    X, y = data_segmentation(dataCollection=dataset, window_size=25, label='HL_Activity')\n",
    "    X_train, X_test, y_train, y_test = train_test_split(X.mean(axis=1), y, test_size=0.2, random_state=42)\n",
    "    \n",
    "    model = my_qda(X_train, y_train)\n",
    "    y_pred = model.predict(X_test)\n",
    "    return accuracy_score(y_test, y_pred)"
   ]
  },
  {
   "cell_type": "code",
   "execution_count": 25,
   "metadata": {},
   "outputs": [
    {
     "name": "stdout",
     "output_type": "stream",
     "text": [
      "|   iter    |  target   |  method   |   tresh   |\n",
      "-------------------------------------------------\n",
      "| \u001b[0m1        \u001b[0m | \u001b[0m1.0      \u001b[0m | \u001b[0m0.834    \u001b[0m | \u001b[0m0.7411   \u001b[0m |\n",
      "| \u001b[0m2        \u001b[0m | \u001b[0m1.0      \u001b[0m | \u001b[0m0.0002287\u001b[0m | \u001b[0m0.3691   \u001b[0m |\n",
      "| \u001b[0m3        \u001b[0m | \u001b[0m1.0      \u001b[0m | \u001b[0m0.2935   \u001b[0m | \u001b[0m0.1822   \u001b[0m |\n",
      "| \u001b[0m4        \u001b[0m | \u001b[0m1.0      \u001b[0m | \u001b[0m0.3725   \u001b[0m | \u001b[0m0.4075   \u001b[0m |\n",
      "| \u001b[0m5        \u001b[0m | \u001b[0m1.0      \u001b[0m | \u001b[0m0.7935   \u001b[0m | \u001b[0m0.5795   \u001b[0m |\n",
      "| \u001b[0m6        \u001b[0m | \u001b[0m1.0      \u001b[0m | \u001b[0m0.8384   \u001b[0m | \u001b[0m0.7098   \u001b[0m |\n",
      "| \u001b[0m7        \u001b[0m | \u001b[0m1.0      \u001b[0m | \u001b[0m0.4089   \u001b[0m | \u001b[0m0.8815   \u001b[0m |\n",
      "| \u001b[0m8        \u001b[0m | \u001b[0m1.0      \u001b[0m | \u001b[0m0.05478  \u001b[0m | \u001b[0m0.6967   \u001b[0m |\n",
      "| \u001b[0m9        \u001b[0m | \u001b[0m1.0      \u001b[0m | \u001b[0m0.8346   \u001b[0m | \u001b[0m0.5972   \u001b[0m |\n",
      "| \u001b[0m10       \u001b[0m | \u001b[0m1.0      \u001b[0m | \u001b[0m0.2808   \u001b[0m | \u001b[0m0.2763   \u001b[0m |\n",
      "| \u001b[0m11       \u001b[0m | \u001b[0m1.0      \u001b[0m | \u001b[0m1.994    \u001b[0m | \u001b[0m0.9846   \u001b[0m |\n",
      "| \u001b[0m12       \u001b[0m | \u001b[0m1.0      \u001b[0m | \u001b[0m1.999    \u001b[0m | \u001b[0m0.1307   \u001b[0m |\n",
      "| \u001b[0m13       \u001b[0m | \u001b[0m1.0      \u001b[0m | \u001b[0m1.998    \u001b[0m | \u001b[0m0.1192   \u001b[0m |\n",
      "| \u001b[0m14       \u001b[0m | \u001b[0m1.0      \u001b[0m | \u001b[0m2.0      \u001b[0m | \u001b[0m0.9659   \u001b[0m |\n",
      "| \u001b[0m15       \u001b[0m | \u001b[0m1.0      \u001b[0m | \u001b[0m1.998    \u001b[0m | \u001b[0m0.1082   \u001b[0m |\n",
      "| \u001b[0m16       \u001b[0m | \u001b[0m1.0      \u001b[0m | \u001b[0m1.999    \u001b[0m | \u001b[0m0.9809   \u001b[0m |\n",
      "| \u001b[0m17       \u001b[0m | \u001b[0m1.0      \u001b[0m | \u001b[0m0.005558 \u001b[0m | \u001b[0m0.9739   \u001b[0m |\n",
      "| \u001b[0m18       \u001b[0m | \u001b[0m1.0      \u001b[0m | \u001b[0m1.997    \u001b[0m | \u001b[0m0.1096   \u001b[0m |\n",
      "| \u001b[0m19       \u001b[0m | \u001b[0m1.0      \u001b[0m | \u001b[0m0.000483 \u001b[0m | \u001b[0m0.1064   \u001b[0m |\n",
      "| \u001b[0m20       \u001b[0m | \u001b[0m1.0      \u001b[0m | \u001b[0m2.0      \u001b[0m | \u001b[0m0.9713   \u001b[0m |\n",
      "=================================================\n",
      "{'target': 1.0, 'params': {'method': 0.834044009405148, 'tresh': 0.7410887991635207}}\n"
     ]
    }
   ],
   "source": [
    "pbounds = {\n",
    "    'method': (0, 2),\n",
    "    'tresh': (0.1, 0.99),\n",
    "    }\n",
    "\n",
    "\n",
    "optimizer = BayesianOptimization(\n",
    "    f=pipeline_qda,\n",
    "    pbounds=pbounds,\n",
    "    verbose=2,\n",
    "    random_state=1,\n",
    ")\n",
    "\n",
    "optimizer.maximize(init_points=10, n_iter=10)\n",
    "print(optimizer.max)"
   ]
  },
  {
   "cell_type": "code",
   "execution_count": 47,
   "metadata": {},
   "outputs": [
    {
     "name": "stdout",
     "output_type": "stream",
     "text": [
      "Accuracy: 1.0\n",
      "Precision: 1.0\n",
      "Recall: 1.0\n",
      "F1 Score: 1.0\n"
     ]
    }
   ],
   "source": [
    "method = 1.44\n",
    "tresh = 0.23\n",
    "\n",
    "if method <= 1:\n",
    "    dataset = dim_reduction(df[df.columns[:-7]], tresh)\n",
    "elif method <= 2:\n",
    "    dataset = correlation(df[df.columns[:-7]], tresh)\n",
    "\n",
    "labels = df[df.columns[-7:]]\n",
    "dataset = pd.concat([dataset, labels], axis=1)\n",
    "\n",
    "X, y = data_segmentation(dataCollection=dataset, window_size=25, label='HL_Activity')\n",
    "\n",
    "# Split the dataset into training and testing sets\n",
    "X_train, X_test, y_train, y_test = train_test_split(X.mean(axis=1), y, test_size=0.2, random_state=42)\n",
    "\n",
    "# Create an instance of the QDA classifier\n",
    "clf = my_qda(X_train, y_train)\n",
    "\n",
    "# Predict the labels for the testing data\n",
    "y_pred = clf.predict(X_test)\n",
    "\n",
    "# Evaluate the performance of the classifier\n",
    "accuracy = accuracy_score(y_test, y_pred)\n",
    "precision = precision_score(y_test, y_pred, average='weighted')\n",
    "recall = recall_score(y_test, y_pred, average='weighted')\n",
    "f1 = f1_score(y_test, y_pred, average='weighted')\n",
    "\n",
    "# Print the evaluation metrics\n",
    "print(\"Accuracy:\", accuracy)\n",
    "print(\"Precision:\", precision)\n",
    "print(\"Recall:\", recall)\n",
    "print(\"F1 Score:\", f1)"
   ]
  },
  {
   "cell_type": "code",
   "execution_count": 48,
   "metadata": {},
   "outputs": [
    {
     "data": {
      "image/png": "[encoded data removed]",
      "text/plain": [
       "<Figure size 800x800 with 1 Axes>"
      ]
     },
     "metadata": {},
     "output_type": "display_data"
    }
   ],
   "source": [
    "# confusion matrix\n",
    "cm = confusion_matrix(y_test, y_pred)\n",
    "\n",
    "# plot the confusion matrix\n",
    "plt.figure(figsize=(8, 8))\n",
    "sns.heatmap(cm, annot=True, cmap='Blues', fmt='g', cbar=False)\n",
    "plt.xticks(np.arange(5)+0.5, ['Relaxing', 'Coffee time', 'Early morning', 'Cleanup', 'Sandwich time'], rotation=90)\n",
    "plt.yticks(np.arange(5)+0.5, ['Relaxing', 'Coffee time', 'Early morning', 'Cleanup', 'Sandwich time'], rotation=0)\n",
    "plt.xlabel(\"Predicted\")\n",
    "plt.ylabel(\"Actual\")\n",
    "plt.title(\"Confusion Matrix\")\n",
    "plt.show()"
   ]
  },
  {
   "cell_type": "markdown",
   "metadata": {},
   "source": [
    "# Decision Tree"
   ]
  },
  {
   "cell_type": "code",
   "execution_count": 26,
   "metadata": {},
   "outputs": [],
   "source": [
    "def my_decision_tree(X_train, y_train, max_depth, min_samples_split, min_samples_leaf):\n",
    "    model = DecisionTreeClassifier(max_depth=max_depth, min_samples_split=min_samples_split, min_samples_leaf=min_samples_leaf)\n",
    "    model.fit(X_train, y_train)\n",
    "    return model"
   ]
  },
  {
   "cell_type": "code",
   "execution_count": 29,
   "metadata": {},
   "outputs": [],
   "source": [
    "def pipeline_dt(method, tresh, max_depth, min_samples_split, min_samples_leaf):\n",
    "     \n",
    "    if method <= 1:\n",
    "        dataset = dim_reduction(df[df.columns[:-7]], tresh)\n",
    "    elif method <= 2:\n",
    "        dataset = correlation(df[df.columns[:-7]], tresh)\n",
    "\n",
    "    labels = df[df.columns[-7:]]\n",
    "    dataset = pd.concat([dataset, labels], axis=1)\n",
    "\n",
    "    X, y = data_segmentation(dataCollection=dataset, window_size=25, label='HL_Activity')\n",
    "    X_train, X_test, y_train, y_test = train_test_split(X.mean(axis=1), y, test_size=0.2, random_state=42)\n",
    "\n",
    "    model = my_decision_tree(X_train, y_train, max_depth=int(max_depth), min_samples_split=int(min_samples_split), min_samples_leaf=int(min_samples_leaf))\n",
    "    y_pred = model.predict(X_test)\n",
    "\n",
    "    return accuracy_score(y_test, y_pred)"
   ]
  },
  {
   "cell_type": "code",
   "execution_count": 30,
   "metadata": {},
   "outputs": [
    {
     "name": "stdout",
     "output_type": "stream",
     "text": [
      "|   iter    |  target   | max_depth |  method   | min_sa... | min_sa... | n_esti... |   tresh   |\n",
      "-------------------------------------------------------------------------------------------------\n",
      "| \u001b[0m1        \u001b[0m | \u001b[0m1.0      \u001b[0m | \u001b[0m13.93    \u001b[0m | \u001b[0m1.441    \u001b[0m | \u001b[0m1.001    \u001b[0m | \u001b[0m4.419    \u001b[0m | \u001b[0m23.21    \u001b[0m | \u001b[0m0.1822   \u001b[0m |\n",
      "| \u001b[0m2        \u001b[0m | \u001b[0m1.0      \u001b[0m | \u001b[0m6.774    \u001b[0m | \u001b[0m0.6911   \u001b[0m | \u001b[0m4.571    \u001b[0m | \u001b[0m6.311    \u001b[0m | \u001b[0m47.73    \u001b[0m | \u001b[0m0.7098   \u001b[0m |\n",
      "| \u001b[0m3        \u001b[0m | \u001b[0m1.0      \u001b[0m | \u001b[0m7.338    \u001b[0m | \u001b[0m1.756    \u001b[0m | \u001b[0m1.246    \u001b[0m | \u001b[0m7.364    \u001b[0m | \u001b[0m47.56    \u001b[0m | \u001b[0m0.5972   \u001b[0m |\n",
      "| \u001b[0m4        \u001b[0m | \u001b[0m1.0      \u001b[0m | \u001b[0m5.352    \u001b[0m | \u001b[0m0.3962   \u001b[0m | \u001b[0m8.207    \u001b[0m | \u001b[0m9.746    \u001b[0m | \u001b[0m38.21    \u001b[0m | \u001b[0m0.7162   \u001b[0m |\n",
      "| \u001b[0m5        \u001b[0m | \u001b[0m1.0      \u001b[0m | \u001b[0m28.17    \u001b[0m | \u001b[0m1.789    \u001b[0m | \u001b[0m1.765    \u001b[0m | \u001b[0m2.312    \u001b[0m | \u001b[0m25.28    \u001b[0m | \u001b[0m0.8815   \u001b[0m |\n",
      "| \u001b[0m6        \u001b[0m | \u001b[0m1.0      \u001b[0m | \u001b[0m4.049    \u001b[0m | \u001b[0m0.8422   \u001b[0m | \u001b[0m9.621    \u001b[0m | \u001b[0m6.265    \u001b[0m | \u001b[0m72.27    \u001b[0m | \u001b[0m0.3808   \u001b[0m |\n",
      "| \u001b[0m7        \u001b[0m | \u001b[0m1.0      \u001b[0m | \u001b[0m22.28    \u001b[0m | \u001b[0m1.669    \u001b[0m | \u001b[0m1.165    \u001b[0m | \u001b[0m8.001    \u001b[0m | \u001b[0m99.0     \u001b[0m | \u001b[0m0.7659   \u001b[0m |\n",
      "| \u001b[0m8        \u001b[0m | \u001b[0m1.0      \u001b[0m | \u001b[0m9.694    \u001b[0m | \u001b[0m1.579    \u001b[0m | \u001b[0m1.929    \u001b[0m | \u001b[0m5.583    \u001b[0m | \u001b[0m91.77    \u001b[0m | \u001b[0m0.3613   \u001b[0m |\n",
      "| \u001b[0m9        \u001b[0m | \u001b[0m1.0      \u001b[0m | \u001b[0m9.921    \u001b[0m | \u001b[0m0.2601   \u001b[0m | \u001b[0m1.174    \u001b[0m | \u001b[0m7.431    \u001b[0m | \u001b[0m29.05    \u001b[0m | \u001b[0m0.3363   \u001b[0m |\n",
      "| \u001b[0m10       \u001b[0m | \u001b[0m1.0      \u001b[0m | \u001b[0m16.24    \u001b[0m | \u001b[0m0.1067   \u001b[0m | \u001b[0m6.167    \u001b[0m | \u001b[0m3.174    \u001b[0m | \u001b[0m63.04    \u001b[0m | \u001b[0m0.7228   \u001b[0m |\n",
      "| \u001b[0m11       \u001b[0m | \u001b[0m1.0      \u001b[0m | \u001b[0m31.92    \u001b[0m | \u001b[0m0.1066   \u001b[0m | \u001b[0m1.573    \u001b[0m | \u001b[0m4.615    \u001b[0m | \u001b[0m99.75    \u001b[0m | \u001b[0m0.7762   \u001b[0m |\n",
      "| \u001b[0m12       \u001b[0m | \u001b[0m1.0      \u001b[0m | \u001b[0m31.8     \u001b[0m | \u001b[0m0.2088   \u001b[0m | \u001b[0m6.284    \u001b[0m | \u001b[0m8.663    \u001b[0m | \u001b[0m10.28    \u001b[0m | \u001b[0m0.1629   \u001b[0m |\n",
      "| \u001b[0m13       \u001b[0m | \u001b[0m1.0      \u001b[0m | \u001b[0m31.71    \u001b[0m | \u001b[0m1.36     \u001b[0m | \u001b[0m7.873    \u001b[0m | \u001b[0m3.428    \u001b[0m | \u001b[0m99.59    \u001b[0m | \u001b[0m0.6984   \u001b[0m |\n",
      "| \u001b[0m14       \u001b[0m | \u001b[0m1.0      \u001b[0m | \u001b[0m31.55    \u001b[0m | \u001b[0m0.3491   \u001b[0m | \u001b[0m6.353    \u001b[0m | \u001b[0m4.103    \u001b[0m | \u001b[0m10.32    \u001b[0m | \u001b[0m0.65     \u001b[0m |\n",
      "| \u001b[0m15       \u001b[0m | \u001b[0m0.7321   \u001b[0m | \u001b[0m1.764    \u001b[0m | \u001b[0m0.4562   \u001b[0m | \u001b[0m1.212    \u001b[0m | \u001b[0m2.579    \u001b[0m | \u001b[0m99.9     \u001b[0m | \u001b[0m0.1489   \u001b[0m |\n",
      "| \u001b[0m16       \u001b[0m | \u001b[0m1.0      \u001b[0m | \u001b[0m17.35    \u001b[0m | \u001b[0m2.0      \u001b[0m | \u001b[0m2.771    \u001b[0m | \u001b[0m7.997    \u001b[0m | \u001b[0m83.25    \u001b[0m | \u001b[0m0.5427   \u001b[0m |\n",
      "| \u001b[0m17       \u001b[0m | \u001b[0m1.0      \u001b[0m | \u001b[0m23.13    \u001b[0m | \u001b[0m2.0      \u001b[0m | \u001b[0m7.194    \u001b[0m | \u001b[0m4.838    \u001b[0m | \u001b[0m42.22    \u001b[0m | \u001b[0m0.1      \u001b[0m |\n",
      "| \u001b[0m18       \u001b[0m | \u001b[0m1.0      \u001b[0m | \u001b[0m14.03    \u001b[0m | \u001b[0m0.0      \u001b[0m | \u001b[0m10.0     \u001b[0m | \u001b[0m10.0     \u001b[0m | \u001b[0m10.0     \u001b[0m | \u001b[0m0.1596   \u001b[0m |\n",
      "| \u001b[0m19       \u001b[0m | \u001b[0m0.7321   \u001b[0m | \u001b[0m1.0      \u001b[0m | \u001b[0m2.0      \u001b[0m | \u001b[0m10.0     \u001b[0m | \u001b[0m2.0      \u001b[0m | \u001b[0m18.95    \u001b[0m | \u001b[0m0.99     \u001b[0m |\n",
      "| \u001b[0m20       \u001b[0m | \u001b[0m1.0      \u001b[0m | \u001b[0m22.13    \u001b[0m | \u001b[0m0.0      \u001b[0m | \u001b[0m10.0     \u001b[0m | \u001b[0m10.0     \u001b[0m | \u001b[0m27.4     \u001b[0m | \u001b[0m0.1      \u001b[0m |\n",
      "=================================================================================================\n",
      "{'target': 1.0, 'params': {'max_depth': 13.927682145779794, 'method': 1.4406489868843162, 'min_samples_leaf': 1.001029373356104, 'min_samples_split': 4.418660581054718, 'n_estimators': 23.208030173540173, 'tresh': 0.18218134934423005}}\n"
     ]
    }
   ],
   "source": [
    "pbounds = {\n",
    "    'method': (0, 2),\n",
    "    'tresh': (0.1, 0.99),\n",
    "    'max_depth': (1, 32),\n",
    "    'min_samples_split': (2, 10),\n",
    "    'min_samples_leaf': (1, 10)\n",
    "    }\n",
    "\n",
    "\n",
    "optimizer = BayesianOptimization(\n",
    "    f=pipeline_dt,\n",
    "    pbounds=pbounds,\n",
    "    verbose=2,\n",
    "    random_state=1,\n",
    ")\n",
    "\n",
    "optimizer.maximize(init_points=10, n_iter=10)\n",
    "print(optimizer.max)"
   ]
  },
  {
   "cell_type": "code",
   "execution_count": 45,
   "metadata": {},
   "outputs": [
    {
     "name": "stdout",
     "output_type": "stream",
     "text": [
      "Accuracy: 1.0\n",
      "Precision: 1.0\n",
      "Recall: 1.0\n",
      "F1 Score: 1.0\n"
     ]
    }
   ],
   "source": [
    "method = 1.44\n",
    "tresh = 0.23\n",
    "min_samples_split = 4.41\n",
    "min_samples_leaf = 1.00\n",
    "max_depth = 13.92\n",
    "\n",
    "if method <= 1:\n",
    "    dataset = dim_reduction(df[df.columns[:-7]], tresh)\n",
    "elif method <= 2:\n",
    "    dataset = correlation(df[df.columns[:-7]], tresh)\n",
    "\n",
    "labels = df[df.columns[-7:]]\n",
    "dataset = pd.concat([dataset, labels], axis=1)\n",
    "\n",
    "X, y = data_segmentation(dataCollection=dataset, window_size=25, label='HL_Activity')\n",
    "\n",
    "# Split the dataset into training and testing sets\n",
    "X_train, X_test, y_train, y_test = train_test_split(X.mean(axis=1), y, test_size=0.2, random_state=42)\n",
    "\n",
    "# Create an instance of the decision tree classifier\n",
    "clf = my_decision_tree(X_train, y_train, max_depth=int(max_depth), min_samples_split=int(min_samples_split), min_samples_leaf=int(min_samples_leaf))\n",
    "\n",
    "# Predict the labels for the testing data\n",
    "y_pred = clf.predict(X_test)\n",
    "\n",
    "# Evaluate the performance of the classifier\n",
    "accuracy = accuracy_score(y_test, y_pred)\n",
    "precision = precision_score(y_test, y_pred, average='weighted')\n",
    "recall = recall_score(y_test, y_pred, average='weighted')\n",
    "f1 = f1_score(y_test, y_pred, average='weighted')\n",
    "\n",
    "# Print the evaluation metrics\n",
    "print(\"Accuracy:\", accuracy)\n",
    "print(\"Precision:\", precision)\n",
    "print(\"Recall:\", recall)\n",
    "print(\"F1 Score:\", f1)"
   ]
  },
  {
   "cell_type": "code",
   "execution_count": 46,
   "metadata": {},
   "outputs": [
    {
     "data": {
      "image/png": "[encoded data removed]",
      "text/plain": [
       "<Figure size 800x800 with 1 Axes>"
      ]
     },
     "metadata": {},
     "output_type": "display_data"
    }
   ],
   "source": [
    "# confusion matrix\n",
    "cm = confusion_matrix(y_test, y_pred)\n",
    "\n",
    "# plot the confusion matrix\n",
    "plt.figure(figsize=(8, 8))\n",
    "sns.heatmap(cm, annot=True, cmap='Blues', fmt='g', cbar=False)\n",
    "plt.xticks(np.arange(5)+0.5, ['Relaxing', 'Coffee time', 'Early morning', 'Cleanup', 'Sandwich time'], rotation=90)\n",
    "plt.yticks(np.arange(5)+0.5, ['Relaxing', 'Coffee time', 'Early morning', 'Cleanup', 'Sandwich time'], rotation=0)\n",
    "plt.xlabel(\"Predicted\")\n",
    "plt.ylabel(\"Actual\")\n",
    "plt.title(\"Confusion Matrix\")\n",
    "plt.show()"
   ]
  },
  {
   "cell_type": "markdown",
   "metadata": {},
   "source": [
    "# Random Forest"
   ]
  },
  {
   "cell_type": "code",
   "execution_count": 31,
   "metadata": {},
   "outputs": [],
   "source": [
    "def my_random_forest(X_train, y_train, n_estimators, max_depth, min_samples_split, min_samples_leaf):\n",
    "    model = RandomForestClassifier(n_estimators=n_estimators, max_depth=max_depth, min_samples_split=min_samples_split, min_samples_leaf=min_samples_leaf)\n",
    "    model.fit(X_train, y_train)\n",
    "    return model"
   ]
  },
  {
   "cell_type": "code",
   "execution_count": 32,
   "metadata": {},
   "outputs": [],
   "source": [
    "def pipeline_random_forest(method, tresh, n_estimators, max_depth, min_samples_split, min_samples_leaf):\n",
    "     \n",
    "    if method <= 1:\n",
    "        dataset = dim_reduction(df[df.columns[:-7]], tresh)\n",
    "    elif method <= 2:\n",
    "        dataset = correlation(df[df.columns[:-7]], tresh)\n",
    "\n",
    "    labels = df[df.columns[-7:]]\n",
    "    dataset = pd.concat([dataset, labels], axis=1)\n",
    "\n",
    "    X, y = data_segmentation(dataCollection=df, window_size=25, label='HL_Activity')\n",
    "    X_train, X_test, y_train, y_test = train_test_split(X.mean(axis=1), y, test_size=0.2, random_state=42)\n",
    "\n",
    "    model = my_random_forest(X_train, y_train, n_estimators=int(n_estimators), max_depth=int(max_depth), min_samples_split=int(min_samples_split), min_samples_leaf=int(min_samples_leaf))\n",
    "    y_pred = model.predict(X_test)\n",
    "\n",
    "    return accuracy_score(y_test, y_pred)"
   ]
  },
  {
   "cell_type": "code",
   "execution_count": 33,
   "metadata": {},
   "outputs": [
    {
     "name": "stdout",
     "output_type": "stream",
     "text": [
      "|   iter    |  target   | max_depth |  method   | min_sa... | min_sa... | n_esti... |   tresh   |\n",
      "-------------------------------------------------------------------------------------------------\n",
      "| \u001b[0m1        \u001b[0m | \u001b[0m0.9964   \u001b[0m | \u001b[0m13.93    \u001b[0m | \u001b[0m1.441    \u001b[0m | \u001b[0m1.001    \u001b[0m | \u001b[0m4.419    \u001b[0m | \u001b[0m23.21    \u001b[0m | \u001b[0m0.1822   \u001b[0m |\n",
      "| \u001b[0m2        \u001b[0m | \u001b[0m0.9927   \u001b[0m | \u001b[0m6.774    \u001b[0m | \u001b[0m0.6911   \u001b[0m | \u001b[0m4.571    \u001b[0m | \u001b[0m6.311    \u001b[0m | \u001b[0m47.73    \u001b[0m | \u001b[0m0.7098   \u001b[0m |\n",
      "| \u001b[0m3        \u001b[0m | \u001b[0m0.9903   \u001b[0m | \u001b[0m7.338    \u001b[0m | \u001b[0m1.756    \u001b[0m | \u001b[0m1.246    \u001b[0m | \u001b[0m7.364    \u001b[0m | \u001b[0m47.56    \u001b[0m | \u001b[0m0.5972   \u001b[0m |\n",
      "| \u001b[0m4        \u001b[0m | \u001b[0m0.9564   \u001b[0m | \u001b[0m5.352    \u001b[0m | \u001b[0m0.3962   \u001b[0m | \u001b[0m8.207    \u001b[0m | \u001b[0m9.746    \u001b[0m | \u001b[0m38.21    \u001b[0m | \u001b[0m0.7162   \u001b[0m |\n",
      "| \u001b[95m5        \u001b[0m | \u001b[95m1.0      \u001b[0m | \u001b[95m28.17    \u001b[0m | \u001b[95m1.789    \u001b[0m | \u001b[95m1.765    \u001b[0m | \u001b[95m2.312    \u001b[0m | \u001b[95m25.28    \u001b[0m | \u001b[95m0.8815   \u001b[0m |\n",
      "| \u001b[0m6        \u001b[0m | \u001b[0m0.9067   \u001b[0m | \u001b[0m4.049    \u001b[0m | \u001b[0m0.8422   \u001b[0m | \u001b[0m9.621    \u001b[0m | \u001b[0m6.265    \u001b[0m | \u001b[0m72.27    \u001b[0m | \u001b[0m0.3808   \u001b[0m |\n",
      "| \u001b[0m7        \u001b[0m | \u001b[0m0.9976   \u001b[0m | \u001b[0m22.28    \u001b[0m | \u001b[0m1.669    \u001b[0m | \u001b[0m1.165    \u001b[0m | \u001b[0m8.001    \u001b[0m | \u001b[0m99.0     \u001b[0m | \u001b[0m0.7659   \u001b[0m |\n",
      "| \u001b[0m8        \u001b[0m | \u001b[0m0.9964   \u001b[0m | \u001b[0m9.694    \u001b[0m | \u001b[0m1.579    \u001b[0m | \u001b[0m1.929    \u001b[0m | \u001b[0m5.583    \u001b[0m | \u001b[0m91.77    \u001b[0m | \u001b[0m0.3613   \u001b[0m |\n",
      "| \u001b[0m9        \u001b[0m | \u001b[0m0.9988   \u001b[0m | \u001b[0m9.921    \u001b[0m | \u001b[0m0.2601   \u001b[0m | \u001b[0m1.174    \u001b[0m | \u001b[0m7.431    \u001b[0m | \u001b[0m29.05    \u001b[0m | \u001b[0m0.3363   \u001b[0m |\n",
      "| \u001b[0m10       \u001b[0m | \u001b[0m0.9976   \u001b[0m | \u001b[0m16.24    \u001b[0m | \u001b[0m0.1067   \u001b[0m | \u001b[0m6.167    \u001b[0m | \u001b[0m3.174    \u001b[0m | \u001b[0m63.04    \u001b[0m | \u001b[0m0.7228   \u001b[0m |\n",
      "| \u001b[0m11       \u001b[0m | \u001b[0m0.9964   \u001b[0m | \u001b[0m19.36    \u001b[0m | \u001b[0m0.0      \u001b[0m | \u001b[0m4.032    \u001b[0m | \u001b[0m2.0      \u001b[0m | \u001b[0m52.27    \u001b[0m | \u001b[0m0.9523   \u001b[0m |\n",
      "| \u001b[0m12       \u001b[0m | \u001b[0m0.9988   \u001b[0m | \u001b[0m21.73    \u001b[0m | \u001b[0m0.0      \u001b[0m | \u001b[0m1.0      \u001b[0m | \u001b[0m2.353    \u001b[0m | \u001b[0m36.43    \u001b[0m | \u001b[0m0.1      \u001b[0m |\n",
      "| \u001b[0m13       \u001b[0m | \u001b[0m1.0      \u001b[0m | \u001b[0m28.92    \u001b[0m | \u001b[0m0.0      \u001b[0m | \u001b[0m2.796    \u001b[0m | \u001b[0m2.0      \u001b[0m | \u001b[0m63.98    \u001b[0m | \u001b[0m0.9647   \u001b[0m |\n",
      "| \u001b[0m14       \u001b[0m | \u001b[0m0.9988   \u001b[0m | \u001b[0m29.21    \u001b[0m | \u001b[0m1.933    \u001b[0m | \u001b[0m9.66     \u001b[0m | \u001b[0m9.61     \u001b[0m | \u001b[0m53.7     \u001b[0m | \u001b[0m0.2522   \u001b[0m |\n",
      "| \u001b[0m15       \u001b[0m | \u001b[0m0.9976   \u001b[0m | \u001b[0m32.0     \u001b[0m | \u001b[0m2.0      \u001b[0m | \u001b[0m8.553    \u001b[0m | \u001b[0m10.0     \u001b[0m | \u001b[0m36.02    \u001b[0m | \u001b[0m0.99     \u001b[0m |\n",
      "| \u001b[0m16       \u001b[0m | \u001b[0m1.0      \u001b[0m | \u001b[0m32.0     \u001b[0m | \u001b[0m0.0      \u001b[0m | \u001b[0m1.0      \u001b[0m | \u001b[0m2.0      \u001b[0m | \u001b[0m46.27    \u001b[0m | \u001b[0m0.1      \u001b[0m |\n",
      "| \u001b[0m17       \u001b[0m | \u001b[0m0.9891   \u001b[0m | \u001b[0m32.0     \u001b[0m | \u001b[0m0.0      \u001b[0m | \u001b[0m10.0     \u001b[0m | \u001b[0m10.0     \u001b[0m | \u001b[0m15.54    \u001b[0m | \u001b[0m0.4857   \u001b[0m |\n",
      "| \u001b[0m18       \u001b[0m | \u001b[0m0.9976   \u001b[0m | \u001b[0m31.94    \u001b[0m | \u001b[0m0.7579   \u001b[0m | \u001b[0m1.0      \u001b[0m | \u001b[0m2.963    \u001b[0m | \u001b[0m83.93    \u001b[0m | \u001b[0m0.6649   \u001b[0m |\n",
      "| \u001b[0m19       \u001b[0m | \u001b[0m0.9988   \u001b[0m | \u001b[0m31.67    \u001b[0m | \u001b[0m1.99     \u001b[0m | \u001b[0m8.836    \u001b[0m | \u001b[0m9.762    \u001b[0m | \u001b[0m73.32    \u001b[0m | \u001b[0m0.4904   \u001b[0m |\n",
      "| \u001b[0m20       \u001b[0m | \u001b[0m0.9976   \u001b[0m | \u001b[0m32.0     \u001b[0m | \u001b[0m0.0      \u001b[0m | \u001b[0m10.0     \u001b[0m | \u001b[0m10.0     \u001b[0m | \u001b[0m92.57    \u001b[0m | \u001b[0m0.99     \u001b[0m |\n",
      "=================================================================================================\n",
      "{'target': 1.0, 'params': {'max_depth': 28.168063721177187, 'method': 1.7892133270076946, 'min_samples_leaf': 1.7653979023280013, 'min_samples_split': 2.312438265863059, 'n_estimators': 25.2847377608112, 'tresh': 0.8815468280521777}}\n"
     ]
    }
   ],
   "source": [
    "pbounds = {\n",
    "    'method': (0, 2),\n",
    "    'tresh': (0.1, 0.99),\n",
    "    'n_estimators': (10, 100),\n",
    "    'max_depth': (1, 32),\n",
    "    'min_samples_split': (2, 10),\n",
    "    'min_samples_leaf': (1, 10)\n",
    "    }\n",
    "\n",
    "\n",
    "optimizer = BayesianOptimization(\n",
    "    f=pipeline_random_forest,\n",
    "    pbounds=pbounds,\n",
    "    verbose=2,\n",
    "    random_state=1,\n",
    ")\n",
    "\n",
    "optimizer.maximize(init_points=10, n_iter=10)\n",
    "print(optimizer.max)"
   ]
  },
  {
   "cell_type": "code",
   "execution_count": 43,
   "metadata": {},
   "outputs": [
    {
     "name": "stdout",
     "output_type": "stream",
     "text": [
      "Accuracy: 0.9963636363636363\n",
      "Precision: 0.9964488636363636\n",
      "Recall: 0.9963636363636363\n",
      "F1 Score: 0.9963794842659152\n"
     ]
    }
   ],
   "source": [
    "method = 0.6\n",
    "tresh = 0.23\n",
    "n_estimators = 25.28\n",
    "min_samples_split = 2.31\n",
    "min_samples_leaf = 1.765\n",
    "max_depth = 28.16\n",
    "\n",
    "if method <= 1:\n",
    "    dataset = dim_reduction(df[df.columns[:-7]], tresh)\n",
    "elif method <= 2:\n",
    "    dataset = correlation(df[df.columns[:-7]], tresh)\n",
    "\n",
    "labels = df[df.columns[-7:]]\n",
    "dataset = pd.concat([dataset, labels], axis=1)\n",
    "\n",
    "X, y = data_segmentation(dataCollection=dataset, window_size=25, label='HL_Activity')\n",
    "\n",
    "# Split the dataset into training and testing sets\n",
    "X_train, X_test, y_train, y_test = train_test_split(X.mean(axis=1), y, test_size=0.2, random_state=42)\n",
    "\n",
    "# Create an instance of the SVM classifier\n",
    "clf = my_random_forest(X_train, y_train, n_estimators=int(n_estimators), max_depth=int(max_depth), min_samples_split=int(min_samples_split), min_samples_leaf=int(min_samples_leaf))\n",
    "\n",
    "# Predict the labels for the testing data\n",
    "y_pred = clf.predict(X_test)\n",
    "\n",
    "# Evaluate the performance of the classifier\n",
    "accuracy = accuracy_score(y_test, y_pred)\n",
    "precision = precision_score(y_test, y_pred, average='weighted')\n",
    "recall = recall_score(y_test, y_pred, average='weighted')\n",
    "f1 = f1_score(y_test, y_pred, average='weighted')\n",
    "\n",
    "# Print the evaluation metrics\n",
    "print(\"Accuracy:\", accuracy)\n",
    "print(\"Precision:\", precision)\n",
    "print(\"Recall:\", recall)\n",
    "print(\"F1 Score:\", f1)"
   ]
  },
  {
   "cell_type": "code",
   "execution_count": 44,
   "metadata": {},
   "outputs": [
    {
     "data": {
      "image/png": "[encoded data removed]",
      "text/plain": [
       "<Figure size 800x800 with 1 Axes>"
      ]
     },
     "metadata": {},
     "output_type": "display_data"
    }
   ],
   "source": [
    "# confusion matrix\n",
    "cm = confusion_matrix(y_test, y_pred)\n",
    "\n",
    "# plot the confusion matrix\n",
    "plt.figure(figsize=(8, 8))\n",
    "sns.heatmap(cm, annot=True, cmap='Blues', fmt='g', cbar=False)\n",
    "plt.xticks(np.arange(5)+0.5, ['Relaxing', 'Coffee time', 'Early morning', 'Cleanup', 'Sandwich time'], rotation=90)\n",
    "plt.yticks(np.arange(5)+0.5, ['Relaxing', 'Coffee time', 'Early morning', 'Cleanup', 'Sandwich time'], rotation=0)\n",
    "plt.xlabel(\"Predicted\")\n",
    "plt.ylabel(\"Actual\")\n",
    "plt.title(\"Confusion Matrix\")\n",
    "plt.show()"
   ]
  },
  {
   "cell_type": "markdown",
   "metadata": {},
   "source": [
    "## SVM"
   ]
  },
  {
   "cell_type": "code",
   "execution_count": 37,
   "metadata": {},
   "outputs": [],
   "source": [
    "def my_svm(X_train, y_train, C, kernel, gamma):\n",
    "    if kernel <= 1:\n",
    "        k = 'linear'\n",
    "    elif kernel <= 2:\n",
    "        k = 'poly'\n",
    "    elif kernel <= 3:\n",
    "        k = 'rbf'\n",
    "    elif kernel <= 4:\n",
    "        k = 'sigmoid'\n",
    "    model = svm.SVC(C=C, kernel=k, gamma=gamma)\n",
    "    model.fit(X_train, y_train)\n",
    "    return model"
   ]
  },
  {
   "cell_type": "code",
   "execution_count": 35,
   "metadata": {},
   "outputs": [],
   "source": [
    "def pipeline_svm(method, tresh, C, kernel, gamma):\n",
    "\n",
    "  if method <= 1:\n",
    "    dataset = dim_reduction(df[df.columns[:-7]], tresh)\n",
    "  elif method <= 2:\n",
    "    dataset = correlation(df[df.columns[:-7]], tresh)\n",
    "\n",
    "  labels = df[df.columns[-7:]]\n",
    "  dataset = pd.concat([dataset, labels], axis=1)\n",
    "\n",
    "  X, y = data_segmentation(dataCollection=df, window_size=25, label='HL_Activity')\n",
    "\n",
    "  # split the data into train, validation and test sets using sklearn\n",
    "  X_train, X_test, y_train, y_test = train_test_split(X.mean(axis=1), y, shuffle=True, test_size=0.33)\n",
    "\n",
    "  model = my_svm(X_train, y_train, C, kernel, gamma)\n",
    "\n",
    "  y_pred = model.predict(X_test)\n",
    "\n",
    "  return accuracy_score(y_test, y_pred)\n"
   ]
  },
  {
   "cell_type": "code",
   "execution_count": 39,
   "metadata": {},
   "outputs": [
    {
     "name": "stdout",
     "output_type": "stream",
     "text": [
      "|   iter    |  target   |     C     |   gamma   |  kernel   |  method   |   tresh   |\n",
      "-------------------------------------------------------------------------------------\n",
      "| \u001b[0m1        \u001b[0m | \u001b[0m1.0      \u001b[0m | \u001b[0m4.229    \u001b[0m | \u001b[0m7.231    \u001b[0m | \u001b[0m0.0004575\u001b[0m | \u001b[0m0.6047   \u001b[0m | \u001b[0m0.2306   \u001b[0m |\n",
      "| \u001b[0m2        \u001b[0m | \u001b[0m0.9919   \u001b[0m | \u001b[0m1.014    \u001b[0m | \u001b[0m1.944    \u001b[0m | \u001b[0m1.382    \u001b[0m | \u001b[0m0.7935   \u001b[0m | \u001b[0m0.5795   \u001b[0m |\n",
      "| \u001b[0m3        \u001b[0m | \u001b[0m0.9971   \u001b[0m | \u001b[0m4.25     \u001b[0m | \u001b[0m6.884    \u001b[0m | \u001b[0m0.8178   \u001b[0m | \u001b[0m1.756    \u001b[0m | \u001b[0m0.1244   \u001b[0m |\n",
      "| \u001b[0m4        \u001b[0m | \u001b[0m0.5518   \u001b[0m | \u001b[0m6.738    \u001b[0m | \u001b[0m4.231    \u001b[0m | \u001b[0m2.235    \u001b[0m | \u001b[0m0.2808   \u001b[0m | \u001b[0m0.2763   \u001b[0m |\n",
      "| \u001b[0m5        \u001b[0m | \u001b[0m0.9956   \u001b[0m | \u001b[0m8.027    \u001b[0m | \u001b[0m9.686    \u001b[0m | \u001b[0m1.254    \u001b[0m | \u001b[0m1.385    \u001b[0m | \u001b[0m0.88     \u001b[0m |\n",
      "| \u001b[0m6        \u001b[0m | \u001b[0m0.9978   \u001b[0m | \u001b[0m8.957    \u001b[0m | \u001b[0m0.9419   \u001b[0m | \u001b[0m0.1562   \u001b[0m | \u001b[0m0.3397   \u001b[0m | \u001b[0m0.8815   \u001b[0m |\n",
      "| \u001b[0m7        \u001b[0m | \u001b[0m0.5268   \u001b[0m | \u001b[0m1.074    \u001b[0m | \u001b[0m4.269    \u001b[0m | \u001b[0m3.832    \u001b[0m | \u001b[0m1.066    \u001b[0m | \u001b[0m0.7158   \u001b[0m |\n",
      "| \u001b[0m8        \u001b[0m | \u001b[0m0.5165   \u001b[0m | \u001b[0m3.224    \u001b[0m | \u001b[0m6.896    \u001b[0m | \u001b[0m3.339    \u001b[0m | \u001b[0m0.03658  \u001b[0m | \u001b[0m0.7676   \u001b[0m |\n",
      "| \u001b[0m9        \u001b[0m | \u001b[0m0.9904   \u001b[0m | \u001b[0m9.89     \u001b[0m | \u001b[0m7.507    \u001b[0m | \u001b[0m1.122    \u001b[0m | \u001b[0m1.579    \u001b[0m | \u001b[0m0.1919   \u001b[0m |\n",
      "| \u001b[0m10       \u001b[0m | \u001b[0m0.9941   \u001b[0m | \u001b[0m4.534    \u001b[0m | \u001b[0m9.095    \u001b[0m | \u001b[0m1.174    \u001b[0m | \u001b[0m0.5756   \u001b[0m | \u001b[0m0.2157   \u001b[0m |\n",
      "| \u001b[0m11       \u001b[0m | \u001b[0m0.9985   \u001b[0m | \u001b[0m6.237    \u001b[0m | \u001b[0m8.44     \u001b[0m | \u001b[0m0.0      \u001b[0m | \u001b[0m2.0      \u001b[0m | \u001b[0m0.1      \u001b[0m |\n",
      "| \u001b[0m12       \u001b[0m | \u001b[0m0.9993   \u001b[0m | \u001b[0m2.664    \u001b[0m | \u001b[0m0.1      \u001b[0m | \u001b[0m0.0      \u001b[0m | \u001b[0m2.0      \u001b[0m | \u001b[0m0.1      \u001b[0m |\n",
      "| \u001b[0m13       \u001b[0m | \u001b[0m0.9993   \u001b[0m | \u001b[0m0.1      \u001b[0m | \u001b[0m0.1      \u001b[0m | \u001b[0m0.0      \u001b[0m | \u001b[0m0.0      \u001b[0m | \u001b[0m0.99     \u001b[0m |\n",
      "| \u001b[0m14       \u001b[0m | \u001b[0m1.0      \u001b[0m | \u001b[0m1.786    \u001b[0m | \u001b[0m10.0     \u001b[0m | \u001b[0m0.0      \u001b[0m | \u001b[0m2.0      \u001b[0m | \u001b[0m0.1      \u001b[0m |\n",
      "| \u001b[0m15       \u001b[0m | \u001b[0m0.9985   \u001b[0m | \u001b[0m10.0     \u001b[0m | \u001b[0m10.0     \u001b[0m | \u001b[0m0.0      \u001b[0m | \u001b[0m0.0      \u001b[0m | \u001b[0m0.99     \u001b[0m |\n",
      "| \u001b[0m16       \u001b[0m | \u001b[0m0.4974   \u001b[0m | \u001b[0m10.0     \u001b[0m | \u001b[0m10.0     \u001b[0m | \u001b[0m4.0      \u001b[0m | \u001b[0m2.0      \u001b[0m | \u001b[0m0.99     \u001b[0m |\n",
      "| \u001b[0m17       \u001b[0m | \u001b[0m0.4945   \u001b[0m | \u001b[0m10.0     \u001b[0m | \u001b[0m0.1      \u001b[0m | \u001b[0m3.316    \u001b[0m | \u001b[0m2.0      \u001b[0m | \u001b[0m0.99     \u001b[0m |\n",
      "| \u001b[0m18       \u001b[0m | \u001b[0m0.9993   \u001b[0m | \u001b[0m5.331    \u001b[0m | \u001b[0m0.1      \u001b[0m | \u001b[0m0.0      \u001b[0m | \u001b[0m0.0      \u001b[0m | \u001b[0m0.99     \u001b[0m |\n",
      "| \u001b[0m19       \u001b[0m | \u001b[0m0.9993   \u001b[0m | \u001b[0m0.1      \u001b[0m | \u001b[0m3.738    \u001b[0m | \u001b[0m0.0      \u001b[0m | \u001b[0m2.0      \u001b[0m | \u001b[0m0.1      \u001b[0m |\n",
      "| \u001b[0m20       \u001b[0m | \u001b[0m0.9993   \u001b[0m | \u001b[0m10.0     \u001b[0m | \u001b[0m4.736    \u001b[0m | \u001b[0m0.0      \u001b[0m | \u001b[0m2.0      \u001b[0m | \u001b[0m0.99     \u001b[0m |\n",
      "=====================================================================================\n",
      "{'target': 1.0, 'params': {'C': 4.228517846555483, 'gamma': 7.231212485077365, 'kernel': 0.00045749926937954655, 'method': 0.6046651452636795, 'tresh': 0.23061274282723063}}\n"
     ]
    }
   ],
   "source": [
    "pbounds = {\n",
    "    'method': (0, 2),\n",
    "    'tresh': (0.1, 0.99),\n",
    "    'C': (0.1, 10),\n",
    "    'kernel': (0, 4),\n",
    "    'gamma': (0.1, 10)\n",
    "    }\n",
    "\n",
    "\n",
    "optimizer = BayesianOptimization(\n",
    "    f=pipeline_svm,\n",
    "    pbounds=pbounds,\n",
    "    verbose=2,\n",
    "    random_state=1,\n",
    ")\n",
    "\n",
    "optimizer.maximize(init_points=10, n_iter=10)\n",
    "print(optimizer.max)"
   ]
  },
  {
   "cell_type": "code",
   "execution_count": 41,
   "metadata": {},
   "outputs": [
    {
     "name": "stdout",
     "output_type": "stream",
     "text": [
      "Accuracy: 0.9939393939393939\n",
      "Precision: 0.9940453908836262\n",
      "Recall: 0.9939393939393939\n",
      "F1 Score: 0.9939658071098586\n"
     ]
    }
   ],
   "source": [
    "method = 0.6\n",
    "tresh = 0.23\n",
    "C = 4.23\n",
    "gamma = 7.23\n",
    "kernel = 0.00046\n",
    "\n",
    "if method <= 1:\n",
    "    dataset = dim_reduction(df[df.columns[:-7]], tresh)\n",
    "elif method <= 2:\n",
    "    dataset = correlation(df[df.columns[:-7]], tresh)\n",
    "\n",
    "labels = df[df.columns[-7:]]\n",
    "dataset = pd.concat([dataset, labels], axis=1)\n",
    "\n",
    "X, y = data_segmentation(dataCollection=dataset, window_size=25, label='HL_Activity')\n",
    "\n",
    "# Split the dataset into training and testing sets\n",
    "X_train, X_test, y_train, y_test = train_test_split(X.mean(axis=1), y, test_size=0.2, random_state=42)\n",
    "\n",
    "# Create an instance of the SVM classifier\n",
    "clf = svm.SVC()\n",
    "\n",
    "# Fit the classifier to the training data\n",
    "clf.fit(X_train, y_train)\n",
    "\n",
    "# Predict the labels for the testing data\n",
    "y_pred = clf.predict(X_test)\n",
    "\n",
    "# Evaluate the performance of the classifier\n",
    "accuracy = accuracy_score(y_test, y_pred)\n",
    "precision = precision_score(y_test, y_pred, average='weighted')\n",
    "recall = recall_score(y_test, y_pred, average='weighted')\n",
    "f1 = f1_score(y_test, y_pred, average='weighted')\n",
    "\n",
    "# Print the evaluation metrics\n",
    "print(\"Accuracy:\", accuracy)\n",
    "print(\"Precision:\", precision)\n",
    "print(\"Recall:\", recall)\n",
    "print(\"F1 Score:\", f1)"
   ]
  },
  {
   "cell_type": "code",
   "execution_count": 42,
   "metadata": {},
   "outputs": [
    {
     "data": {
      "image/png": "[encoded data removed]",
      "text/plain": [
       "<Figure size 800x800 with 1 Axes>"
      ]
     },
     "metadata": {},
     "output_type": "display_data"
    }
   ],
   "source": [
    "# confusion matrix\n",
    "cm = confusion_matrix(y_test, y_pred)\n",
    "\n",
    "# plot the confusion matrix\n",
    "plt.figure(figsize=(8, 8))\n",
    "sns.heatmap(cm, annot=True, cmap='Blues', fmt='g', cbar=False)\n",
    "plt.xticks(np.arange(5)+0.5, ['Relaxing', 'Coffee time', 'Early morning', 'Cleanup', 'Sandwich time'], rotation=90)\n",
    "plt.yticks(np.arange(5)+0.5, ['Relaxing', 'Coffee time', 'Early morning', 'Cleanup', 'Sandwich time'], rotation=0)\n",
    "plt.xlabel(\"Predicted\")\n",
    "plt.ylabel(\"Actual\")\n",
    "plt.title(\"Confusion Matrix\")\n",
    "plt.show()"
   ]
  }
 ],
 "metadata": {
  "kernelspec": {
   "display_name": "Python 3",
   "language": "python",
   "name": "python3"
  },
  "language_info": {
   "codemirror_mode": {
    "name": "ipython",
    "version": 3
   },
   "file_extension": ".py",
   "mimetype": "text/x-python",
   "name": "python",
   "nbconvert_exporter": "python",
   "pygments_lexer": "ipython3",
   "version": "3.11.7"
  }
 },
 "nbformat": 4,
 "nbformat_minor": 2
}
