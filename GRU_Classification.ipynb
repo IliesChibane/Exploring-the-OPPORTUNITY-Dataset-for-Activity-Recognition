{
  "cells": [
    {
      "cell_type": "markdown",
      "metadata": {
        "id": "KbFrd57eiBvD"
      },
      "source": [
        "<center><h1>Projet Robotique</h1></center>\n",
        "<center><h2>Classification via GRU</h2></center>"
      ]
    },
    {
      "cell_type": "markdown",
      "metadata": {
        "id": "855UIY6UiJeb"
      },
      "source": [
        "# Importation des librairies"
      ]
    },
    {
      "cell_type": "code",
      "execution_count": 1,
      "metadata": {
        "colab": {
          "base_uri": "https://localhost:8080/"
        },
        "id": "QTIsZfAL_sOz",
        "outputId": "3319989d-ee84-4a08-d61a-0fc169e2cebb"
      },
      "outputs": [
        {
          "name": "stdout",
          "output_type": "stream",
          "text": [
            "Collecting bayesian-optimization\n",
            "  Downloading bayesian_optimization-1.4.3-py3-none-any.whl (18 kB)\n",
            "Requirement already satisfied: numpy>=1.9.0 in /usr/local/lib/python3.10/dist-packages (from bayesian-optimization) (1.23.5)\n",
            "Requirement already satisfied: scipy>=1.0.0 in /usr/local/lib/python3.10/dist-packages (from bayesian-optimization) (1.11.4)\n",
            "Requirement already satisfied: scikit-learn>=0.18.0 in /usr/local/lib/python3.10/dist-packages (from bayesian-optimization) (1.2.2)\n",
            "Collecting colorama>=0.4.6 (from bayesian-optimization)\n",
            "  Downloading colorama-0.4.6-py2.py3-none-any.whl (25 kB)\n",
            "Requirement already satisfied: joblib>=1.1.1 in /usr/local/lib/python3.10/dist-packages (from scikit-learn>=0.18.0->bayesian-optimization) (1.3.2)\n",
            "Requirement already satisfied: threadpoolctl>=2.0.0 in /usr/local/lib/python3.10/dist-packages (from scikit-learn>=0.18.0->bayesian-optimization) (3.2.0)\n",
            "Installing collected packages: colorama, bayesian-optimization\n",
            "Successfully installed bayesian-optimization-1.4.3 colorama-0.4.6\n"
          ]
        }
      ],
      "source": [
        "!pip install bayesian-optimization"
      ]
    },
    {
      "cell_type": "code",
      "execution_count": 2,
      "metadata": {
        "id": "uG4PVG23MdLq"
      },
      "outputs": [],
      "source": [
        "import os\n",
        "from google.colab import drive\n",
        "\n",
        "import pandas as pd\n",
        "import numpy as np\n",
        "from matplotlib import pyplot as plt\n",
        "import seaborn as sns\n",
        "\n",
        "from sklearn.model_selection import train_test_split\n",
        "from sklearn.decomposition import PCA\n",
        "from sklearn.metrics import confusion_matrix\n",
        "from sklearn.metrics import classification_report\n",
        "\n",
        "from bayes_opt import BayesianOptimization\n",
        "\n",
        "import tensorflow as tf\n",
        "from keras.utils import to_categorical\n",
        "from keras.models import Sequential\n",
        "from keras.layers import Dense, GRU, Dropout, Flatten\n",
        "from keras.optimizers import Adam\n",
        "from keras.api._v2.keras.callbacks import ModelCheckpoint, EarlyStopping\n",
        "\n",
        "import warnings\n",
        "warnings.filterwarnings('ignore')\n",
        "# disable tensorflow warnings\n",
        "os.environ['TF_CPP_MIN_LOG_LEVEL'] = '3'"
      ]
    },
    {
      "cell_type": "markdown",
      "metadata": {
        "id": "t-3EzW1siLrc"
      },
      "source": [
        "# Configaration GPU"
      ]
    },
    {
      "cell_type": "code",
      "execution_count": 3,
      "metadata": {
        "colab": {
          "base_uri": "https://localhost:8080/"
        },
        "id": "XPJKH4ywNRdq",
        "outputId": "e6689909-623c-4d7c-c63e-7bc0b839b25a"
      },
      "outputs": [
        {
          "name": "stdout",
          "output_type": "stream",
          "text": [
            "Found GPU at:/device:GPU:0\n"
          ]
        }
      ],
      "source": [
        "device_name = tf.test.gpu_device_name()\n",
        "if len(device_name) > 0:\n",
        "  print(\"Found GPU at:{}\".format(device_name))\n",
        "else:\n",
        "  device_name=\"/device:CPU:0\"\n",
        "  print(\"No GPU\")"
      ]
    },
    {
      "cell_type": "markdown",
      "metadata": {
        "id": "pgG3WW5yiRRr"
      },
      "source": [
        "# Importation du dataset"
      ]
    },
    {
      "cell_type": "code",
      "execution_count": 4,
      "metadata": {
        "colab": {
          "base_uri": "https://localhost:8080/"
        },
        "id": "pdSWSsLtNcMY",
        "outputId": "114444ce-2875-4f90-baef-945fea96a300"
      },
      "outputs": [
        {
          "name": "stdout",
          "output_type": "stream",
          "text": [
            "Mounted at /content/drive\n"
          ]
        }
      ],
      "source": [
        "drive.mount('/content/drive')"
      ]
    },
    {
      "cell_type": "code",
      "execution_count": 5,
      "metadata": {
        "colab": {
          "base_uri": "https://localhost:8080/",
          "height": 461
        },
        "id": "bJXFWLPWNwSs",
        "outputId": "9b002c7b-24b6-4486-910f-9ceaaa6d5c1a"
      },
      "outputs": [
        {
          "data": {
            "text/html": [
              "\n",
              "  <div id=\"df-d79048fd-4a3a-4e74-8c59-04f955249d29\" class=\"colab-df-container\">\n",
              "    <div>\n",
              "<style scoped>\n",
              "    .dataframe tbody tr th:only-of-type {\n",
              "        vertical-align: middle;\n",
              "    }\n",
              "\n",
              "    .dataframe tbody tr th {\n",
              "        vertical-align: top;\n",
              "    }\n",
              "\n",
              "    .dataframe thead th {\n",
              "        text-align: right;\n",
              "    }\n",
              "</style>\n",
              "<table border=\"1\" class=\"dataframe\">\n",
              "  <thead>\n",
              "    <tr style=\"text-align: right;\">\n",
              "      <th></th>\n",
              "      <th>MILLISEC</th>\n",
              "      <th>Accelerometer RKN^ accX</th>\n",
              "      <th>Accelerometer RKN^ accY</th>\n",
              "      <th>Accelerometer RKN^ accZ</th>\n",
              "      <th>Accelerometer HIP accX</th>\n",
              "      <th>Accelerometer HIP accY</th>\n",
              "      <th>Accelerometer HIP accZ</th>\n",
              "      <th>Accelerometer LUA^ accX</th>\n",
              "      <th>Accelerometer LUA^ accY</th>\n",
              "      <th>Accelerometer LUA^ accZ</th>\n",
              "      <th>...</th>\n",
              "      <th>LOCATION TAG4 X</th>\n",
              "      <th>LOCATION TAG4 Y</th>\n",
              "      <th>LOCATION TAG4 Z</th>\n",
              "      <th>Locomotion</th>\n",
              "      <th>HL_Activity</th>\n",
              "      <th>LL_Left_Arm</th>\n",
              "      <th>LL_Left_Arm_Object</th>\n",
              "      <th>LL_Right_Arm</th>\n",
              "      <th>LL_Right_Arm_Object</th>\n",
              "      <th>ML_Both_Arms</th>\n",
              "    </tr>\n",
              "  </thead>\n",
              "  <tbody>\n",
              "    <tr>\n",
              "      <th>0</th>\n",
              "      <td>-1.585284</td>\n",
              "      <td>0.146747</td>\n",
              "      <td>0.337532</td>\n",
              "      <td>-1.410530</td>\n",
              "      <td>0.693260</td>\n",
              "      <td>0.434434</td>\n",
              "      <td>0.074936</td>\n",
              "      <td>-0.199117</td>\n",
              "      <td>0.621667</td>\n",
              "      <td>-0.455638</td>\n",
              "      <td>...</td>\n",
              "      <td>0.147947</td>\n",
              "      <td>0.811792</td>\n",
              "      <td>0.186199</td>\n",
              "      <td>0</td>\n",
              "      <td>0</td>\n",
              "      <td>0</td>\n",
              "      <td>0</td>\n",
              "      <td>0</td>\n",
              "      <td>0</td>\n",
              "      <td>0</td>\n",
              "    </tr>\n",
              "    <tr>\n",
              "      <th>1</th>\n",
              "      <td>-1.585185</td>\n",
              "      <td>0.263802</td>\n",
              "      <td>0.342378</td>\n",
              "      <td>-1.626921</td>\n",
              "      <td>0.626338</td>\n",
              "      <td>0.487110</td>\n",
              "      <td>0.200034</td>\n",
              "      <td>-0.108635</td>\n",
              "      <td>0.598101</td>\n",
              "      <td>-0.542260</td>\n",
              "      <td>...</td>\n",
              "      <td>0.147947</td>\n",
              "      <td>0.812691</td>\n",
              "      <td>0.178270</td>\n",
              "      <td>0</td>\n",
              "      <td>0</td>\n",
              "      <td>0</td>\n",
              "      <td>0</td>\n",
              "      <td>0</td>\n",
              "      <td>0</td>\n",
              "      <td>0</td>\n",
              "    </tr>\n",
              "    <tr>\n",
              "      <th>2</th>\n",
              "      <td>-1.585083</td>\n",
              "      <td>0.194202</td>\n",
              "      <td>0.371457</td>\n",
              "      <td>-1.735116</td>\n",
              "      <td>0.470187</td>\n",
              "      <td>0.527630</td>\n",
              "      <td>0.179184</td>\n",
              "      <td>-0.099275</td>\n",
              "      <td>0.709202</td>\n",
              "      <td>-0.572130</td>\n",
              "      <td>...</td>\n",
              "      <td>0.147947</td>\n",
              "      <td>0.814490</td>\n",
              "      <td>0.172322</td>\n",
              "      <td>0</td>\n",
              "      <td>0</td>\n",
              "      <td>0</td>\n",
              "      <td>0</td>\n",
              "      <td>0</td>\n",
              "      <td>0</td>\n",
              "      <td>0</td>\n",
              "    </tr>\n",
              "    <tr>\n",
              "      <th>3</th>\n",
              "      <td>-1.584985</td>\n",
              "      <td>0.058164</td>\n",
              "      <td>0.153369</td>\n",
              "      <td>-1.616313</td>\n",
              "      <td>0.618902</td>\n",
              "      <td>0.523578</td>\n",
              "      <td>0.210459</td>\n",
              "      <td>-0.152316</td>\n",
              "      <td>0.729402</td>\n",
              "      <td>-0.593039</td>\n",
              "      <td>...</td>\n",
              "      <td>0.147947</td>\n",
              "      <td>0.816289</td>\n",
              "      <td>0.172322</td>\n",
              "      <td>0</td>\n",
              "      <td>0</td>\n",
              "      <td>0</td>\n",
              "      <td>0</td>\n",
              "      <td>0</td>\n",
              "      <td>0</td>\n",
              "      <td>0</td>\n",
              "    </tr>\n",
              "    <tr>\n",
              "      <th>4</th>\n",
              "      <td>-1.584886</td>\n",
              "      <td>0.247984</td>\n",
              "      <td>0.290684</td>\n",
              "      <td>-1.705415</td>\n",
              "      <td>0.570570</td>\n",
              "      <td>0.535734</td>\n",
              "      <td>0.161809</td>\n",
              "      <td>-0.189757</td>\n",
              "      <td>0.709202</td>\n",
              "      <td>-0.634857</td>\n",
              "      <td>...</td>\n",
              "      <td>0.149055</td>\n",
              "      <td>0.818988</td>\n",
              "      <td>0.176287</td>\n",
              "      <td>0</td>\n",
              "      <td>0</td>\n",
              "      <td>0</td>\n",
              "      <td>0</td>\n",
              "      <td>0</td>\n",
              "      <td>0</td>\n",
              "      <td>0</td>\n",
              "    </tr>\n",
              "    <tr>\n",
              "      <th>...</th>\n",
              "      <td>...</td>\n",
              "      <td>...</td>\n",
              "      <td>...</td>\n",
              "      <td>...</td>\n",
              "      <td>...</td>\n",
              "      <td>...</td>\n",
              "      <td>...</td>\n",
              "      <td>...</td>\n",
              "      <td>...</td>\n",
              "      <td>...</td>\n",
              "      <td>...</td>\n",
              "      <td>...</td>\n",
              "      <td>...</td>\n",
              "      <td>...</td>\n",
              "      <td>...</td>\n",
              "      <td>...</td>\n",
              "      <td>...</td>\n",
              "      <td>...</td>\n",
              "      <td>...</td>\n",
              "      <td>...</td>\n",
              "      <td>...</td>\n",
              "    </tr>\n",
              "    <tr>\n",
              "      <th>606043</th>\n",
              "      <td>1.407215</td>\n",
              "      <td>0.640278</td>\n",
              "      <td>0.298761</td>\n",
              "      <td>-0.141884</td>\n",
              "      <td>0.358651</td>\n",
              "      <td>0.102168</td>\n",
              "      <td>0.787298</td>\n",
              "      <td>0.418657</td>\n",
              "      <td>0.540867</td>\n",
              "      <td>-0.067329</td>\n",
              "      <td>...</td>\n",
              "      <td>0.129671</td>\n",
              "      <td>0.139901</td>\n",
              "      <td>0.208006</td>\n",
              "      <td>0</td>\n",
              "      <td>0</td>\n",
              "      <td>0</td>\n",
              "      <td>0</td>\n",
              "      <td>0</td>\n",
              "      <td>0</td>\n",
              "      <td>0</td>\n",
              "    </tr>\n",
              "    <tr>\n",
              "      <th>606044</th>\n",
              "      <td>1.407317</td>\n",
              "      <td>0.437804</td>\n",
              "      <td>0.297145</td>\n",
              "      <td>-0.020960</td>\n",
              "      <td>0.291729</td>\n",
              "      <td>0.102168</td>\n",
              "      <td>0.776873</td>\n",
              "      <td>0.452977</td>\n",
              "      <td>0.483633</td>\n",
              "      <td>-0.195770</td>\n",
              "      <td>...</td>\n",
              "      <td>0.129117</td>\n",
              "      <td>0.138102</td>\n",
              "      <td>0.206023</td>\n",
              "      <td>0</td>\n",
              "      <td>0</td>\n",
              "      <td>0</td>\n",
              "      <td>0</td>\n",
              "      <td>0</td>\n",
              "      <td>0</td>\n",
              "      <td>0</td>\n",
              "    </tr>\n",
              "    <tr>\n",
              "      <th>606045</th>\n",
              "      <td>1.407416</td>\n",
              "      <td>0.678242</td>\n",
              "      <td>0.240604</td>\n",
              "      <td>-0.001866</td>\n",
              "      <td>0.143014</td>\n",
              "      <td>0.110272</td>\n",
              "      <td>0.915871</td>\n",
              "      <td>0.393696</td>\n",
              "      <td>0.503833</td>\n",
              "      <td>-0.195770</td>\n",
              "      <td>...</td>\n",
              "      <td>0.129117</td>\n",
              "      <td>0.136303</td>\n",
              "      <td>0.202059</td>\n",
              "      <td>0</td>\n",
              "      <td>0</td>\n",
              "      <td>0</td>\n",
              "      <td>0</td>\n",
              "      <td>0</td>\n",
              "      <td>0</td>\n",
              "      <td>0</td>\n",
              "    </tr>\n",
              "    <tr>\n",
              "      <th>606046</th>\n",
              "      <td>1.407514</td>\n",
              "      <td>1.155955</td>\n",
              "      <td>0.159831</td>\n",
              "      <td>-0.046417</td>\n",
              "      <td>0.098399</td>\n",
              "      <td>0.256145</td>\n",
              "      <td>0.780348</td>\n",
              "      <td>0.362495</td>\n",
              "      <td>0.577900</td>\n",
              "      <td>-0.276418</td>\n",
              "      <td>...</td>\n",
              "      <td>0.129671</td>\n",
              "      <td>0.134504</td>\n",
              "      <td>0.200076</td>\n",
              "      <td>0</td>\n",
              "      <td>0</td>\n",
              "      <td>0</td>\n",
              "      <td>0</td>\n",
              "      <td>0</td>\n",
              "      <td>0</td>\n",
              "      <td>0</td>\n",
              "    </tr>\n",
              "    <tr>\n",
              "      <th>606047</th>\n",
              "      <td>1.407616</td>\n",
              "      <td>0.323912</td>\n",
              "      <td>0.445768</td>\n",
              "      <td>-0.018838</td>\n",
              "      <td>0.131860</td>\n",
              "      <td>0.199417</td>\n",
              "      <td>0.915871</td>\n",
              "      <td>0.318815</td>\n",
              "      <td>0.651968</td>\n",
              "      <td>-0.106160</td>\n",
              "      <td>...</td>\n",
              "      <td>0.130224</td>\n",
              "      <td>0.133605</td>\n",
              "      <td>0.198094</td>\n",
              "      <td>0</td>\n",
              "      <td>0</td>\n",
              "      <td>0</td>\n",
              "      <td>0</td>\n",
              "      <td>0</td>\n",
              "      <td>0</td>\n",
              "      <td>0</td>\n",
              "    </tr>\n",
              "  </tbody>\n",
              "</table>\n",
              "<p>606048 rows × 250 columns</p>\n",
              "</div>\n",
              "    <div class=\"colab-df-buttons\">\n",
              "\n",
              "  <div class=\"colab-df-container\">\n",
              "    <button class=\"colab-df-convert\" onclick=\"convertToInteractive('df-d79048fd-4a3a-4e74-8c59-04f955249d29')\"\n",
              "            title=\"Convert this dataframe to an interactive table.\"\n",
              "            style=\"display:none;\">\n",
              "\n",
              "  <svg xmlns=\"http://www.w3.org/2000/svg\" height=\"24px\" viewBox=\"0 -960 960 960\">\n",
              "    <path d=\"M120-120v-720h720v720H120Zm60-500h600v-160H180v160Zm220 220h160v-160H400v160Zm0 220h160v-160H400v160ZM180-400h160v-160H180v160Zm440 0h160v-160H620v160ZM180-180h160v-160H180v160Zm440 0h160v-160H620v160Z\"/>\n",
              "  </svg>\n",
              "    </button>\n",
              "\n",
              "  <style>\n",
              "    .colab-df-container {\n",
              "      display:flex;\n",
              "      gap: 12px;\n",
              "    }\n",
              "\n",
              "    .colab-df-convert {\n",
              "      background-color: #E8F0FE;\n",
              "      border: none;\n",
              "      border-radius: 50%;\n",
              "      cursor: pointer;\n",
              "      display: none;\n",
              "      fill: #1967D2;\n",
              "      height: 32px;\n",
              "      padding: 0 0 0 0;\n",
              "      width: 32px;\n",
              "    }\n",
              "\n",
              "    .colab-df-convert:hover {\n",
              "      background-color: #E2EBFA;\n",
              "      box-shadow: 0px 1px 2px rgba(60, 64, 67, 0.3), 0px 1px 3px 1px rgba(60, 64, 67, 0.15);\n",
              "      fill: #174EA6;\n",
              "    }\n",
              "\n",
              "    .colab-df-buttons div {\n",
              "      margin-bottom: 4px;\n",
              "    }\n",
              "\n",
              "    [theme=dark] .colab-df-convert {\n",
              "      background-color: #3B4455;\n",
              "      fill: #D2E3FC;\n",
              "    }\n",
              "\n",
              "    [theme=dark] .colab-df-convert:hover {\n",
              "      background-color: #434B5C;\n",
              "      box-shadow: 0px 1px 3px 1px rgba(0, 0, 0, 0.15);\n",
              "      filter: drop-shadow(0px 1px 2px rgba(0, 0, 0, 0.3));\n",
              "      fill: #FFFFFF;\n",
              "    }\n",
              "  </style>\n",
              "\n",
              "    <script>\n",
              "      const buttonEl =\n",
              "        document.querySelector('#df-d79048fd-4a3a-4e74-8c59-04f955249d29 button.colab-df-convert');\n",
              "      buttonEl.style.display =\n",
              "        google.colab.kernel.accessAllowed ? 'block' : 'none';\n",
              "\n",
              "      async function convertToInteractive(key) {\n",
              "        const element = document.querySelector('#df-d79048fd-4a3a-4e74-8c59-04f955249d29');\n",
              "        const dataTable =\n",
              "          await google.colab.kernel.invokeFunction('convertToInteractive',\n",
              "                                                    [key], {});\n",
              "        if (!dataTable) return;\n",
              "\n",
              "        const docLinkHtml = 'Like what you see? Visit the ' +\n",
              "          '<a target=\"_blank\" href=https://colab.research.google.com/notebooks/data_table.ipynb>data table notebook</a>'\n",
              "          + ' to learn more about interactive tables.';\n",
              "        element.innerHTML = '';\n",
              "        dataTable['output_type'] = 'display_data';\n",
              "        await google.colab.output.renderOutput(dataTable, element);\n",
              "        const docLink = document.createElement('div');\n",
              "        docLink.innerHTML = docLinkHtml;\n",
              "        element.appendChild(docLink);\n",
              "      }\n",
              "    </script>\n",
              "  </div>\n",
              "\n",
              "\n",
              "<div id=\"df-307cb0f2-3424-4600-8e64-ab8d9a35194e\">\n",
              "  <button class=\"colab-df-quickchart\" onclick=\"quickchart('df-307cb0f2-3424-4600-8e64-ab8d9a35194e')\"\n",
              "            title=\"Suggest charts\"\n",
              "            style=\"display:none;\">\n",
              "\n",
              "<svg xmlns=\"http://www.w3.org/2000/svg\" height=\"24px\"viewBox=\"0 0 24 24\"\n",
              "     width=\"24px\">\n",
              "    <g>\n",
              "        <path d=\"M19 3H5c-1.1 0-2 .9-2 2v14c0 1.1.9 2 2 2h14c1.1 0 2-.9 2-2V5c0-1.1-.9-2-2-2zM9 17H7v-7h2v7zm4 0h-2V7h2v10zm4 0h-2v-4h2v4z\"/>\n",
              "    </g>\n",
              "</svg>\n",
              "  </button>\n",
              "\n",
              "<style>\n",
              "  .colab-df-quickchart {\n",
              "      --bg-color: #E8F0FE;\n",
              "      --fill-color: #1967D2;\n",
              "      --hover-bg-color: #E2EBFA;\n",
              "      --hover-fill-color: #174EA6;\n",
              "      --disabled-fill-color: #AAA;\n",
              "      --disabled-bg-color: #DDD;\n",
              "  }\n",
              "\n",
              "  [theme=dark] .colab-df-quickchart {\n",
              "      --bg-color: #3B4455;\n",
              "      --fill-color: #D2E3FC;\n",
              "      --hover-bg-color: #434B5C;\n",
              "      --hover-fill-color: #FFFFFF;\n",
              "      --disabled-bg-color: #3B4455;\n",
              "      --disabled-fill-color: #666;\n",
              "  }\n",
              "\n",
              "  .colab-df-quickchart {\n",
              "    background-color: var(--bg-color);\n",
              "    border: none;\n",
              "    border-radius: 50%;\n",
              "    cursor: pointer;\n",
              "    display: none;\n",
              "    fill: var(--fill-color);\n",
              "    height: 32px;\n",
              "    padding: 0;\n",
              "    width: 32px;\n",
              "  }\n",
              "\n",
              "  .colab-df-quickchart:hover {\n",
              "    background-color: var(--hover-bg-color);\n",
              "    box-shadow: 0 1px 2px rgba(60, 64, 67, 0.3), 0 1px 3px 1px rgba(60, 64, 67, 0.15);\n",
              "    fill: var(--button-hover-fill-color);\n",
              "  }\n",
              "\n",
              "  .colab-df-quickchart-complete:disabled,\n",
              "  .colab-df-quickchart-complete:disabled:hover {\n",
              "    background-color: var(--disabled-bg-color);\n",
              "    fill: var(--disabled-fill-color);\n",
              "    box-shadow: none;\n",
              "  }\n",
              "\n",
              "  .colab-df-spinner {\n",
              "    border: 2px solid var(--fill-color);\n",
              "    border-color: transparent;\n",
              "    border-bottom-color: var(--fill-color);\n",
              "    animation:\n",
              "      spin 1s steps(1) infinite;\n",
              "  }\n",
              "\n",
              "  @keyframes spin {\n",
              "    0% {\n",
              "      border-color: transparent;\n",
              "      border-bottom-color: var(--fill-color);\n",
              "      border-left-color: var(--fill-color);\n",
              "    }\n",
              "    20% {\n",
              "      border-color: transparent;\n",
              "      border-left-color: var(--fill-color);\n",
              "      border-top-color: var(--fill-color);\n",
              "    }\n",
              "    30% {\n",
              "      border-color: transparent;\n",
              "      border-left-color: var(--fill-color);\n",
              "      border-top-color: var(--fill-color);\n",
              "      border-right-color: var(--fill-color);\n",
              "    }\n",
              "    40% {\n",
              "      border-color: transparent;\n",
              "      border-right-color: var(--fill-color);\n",
              "      border-top-color: var(--fill-color);\n",
              "    }\n",
              "    60% {\n",
              "      border-color: transparent;\n",
              "      border-right-color: var(--fill-color);\n",
              "    }\n",
              "    80% {\n",
              "      border-color: transparent;\n",
              "      border-right-color: var(--fill-color);\n",
              "      border-bottom-color: var(--fill-color);\n",
              "    }\n",
              "    90% {\n",
              "      border-color: transparent;\n",
              "      border-bottom-color: var(--fill-color);\n",
              "    }\n",
              "  }\n",
              "</style>\n",
              "\n",
              "  <script>\n",
              "    async function quickchart(key) {\n",
              "      const quickchartButtonEl =\n",
              "        document.querySelector('#' + key + ' button');\n",
              "      quickchartButtonEl.disabled = true;  // To prevent multiple clicks.\n",
              "      quickchartButtonEl.classList.add('colab-df-spinner');\n",
              "      try {\n",
              "        const charts = await google.colab.kernel.invokeFunction(\n",
              "            'suggestCharts', [key], {});\n",
              "      } catch (error) {\n",
              "        console.error('Error during call to suggestCharts:', error);\n",
              "      }\n",
              "      quickchartButtonEl.classList.remove('colab-df-spinner');\n",
              "      quickchartButtonEl.classList.add('colab-df-quickchart-complete');\n",
              "    }\n",
              "    (() => {\n",
              "      let quickchartButtonEl =\n",
              "        document.querySelector('#df-307cb0f2-3424-4600-8e64-ab8d9a35194e button');\n",
              "      quickchartButtonEl.style.display =\n",
              "        google.colab.kernel.accessAllowed ? 'block' : 'none';\n",
              "    })();\n",
              "  </script>\n",
              "</div>\n",
              "    </div>\n",
              "  </div>\n"
            ],
            "text/plain": [
              "        MILLISEC  Accelerometer RKN^ accX  Accelerometer RKN^ accY  \\\n",
              "0      -1.585284                 0.146747                 0.337532   \n",
              "1      -1.585185                 0.263802                 0.342378   \n",
              "2      -1.585083                 0.194202                 0.371457   \n",
              "3      -1.584985                 0.058164                 0.153369   \n",
              "4      -1.584886                 0.247984                 0.290684   \n",
              "...          ...                      ...                      ...   \n",
              "606043  1.407215                 0.640278                 0.298761   \n",
              "606044  1.407317                 0.437804                 0.297145   \n",
              "606045  1.407416                 0.678242                 0.240604   \n",
              "606046  1.407514                 1.155955                 0.159831   \n",
              "606047  1.407616                 0.323912                 0.445768   \n",
              "\n",
              "        Accelerometer RKN^ accZ  Accelerometer HIP accX  \\\n",
              "0                     -1.410530                0.693260   \n",
              "1                     -1.626921                0.626338   \n",
              "2                     -1.735116                0.470187   \n",
              "3                     -1.616313                0.618902   \n",
              "4                     -1.705415                0.570570   \n",
              "...                         ...                     ...   \n",
              "606043                -0.141884                0.358651   \n",
              "606044                -0.020960                0.291729   \n",
              "606045                -0.001866                0.143014   \n",
              "606046                -0.046417                0.098399   \n",
              "606047                -0.018838                0.131860   \n",
              "\n",
              "        Accelerometer HIP accY  Accelerometer HIP accZ  \\\n",
              "0                     0.434434                0.074936   \n",
              "1                     0.487110                0.200034   \n",
              "2                     0.527630                0.179184   \n",
              "3                     0.523578                0.210459   \n",
              "4                     0.535734                0.161809   \n",
              "...                        ...                     ...   \n",
              "606043                0.102168                0.787298   \n",
              "606044                0.102168                0.776873   \n",
              "606045                0.110272                0.915871   \n",
              "606046                0.256145                0.780348   \n",
              "606047                0.199417                0.915871   \n",
              "\n",
              "        Accelerometer LUA^ accX  Accelerometer LUA^ accY  \\\n",
              "0                     -0.199117                 0.621667   \n",
              "1                     -0.108635                 0.598101   \n",
              "2                     -0.099275                 0.709202   \n",
              "3                     -0.152316                 0.729402   \n",
              "4                     -0.189757                 0.709202   \n",
              "...                         ...                      ...   \n",
              "606043                 0.418657                 0.540867   \n",
              "606044                 0.452977                 0.483633   \n",
              "606045                 0.393696                 0.503833   \n",
              "606046                 0.362495                 0.577900   \n",
              "606047                 0.318815                 0.651968   \n",
              "\n",
              "        Accelerometer LUA^ accZ  ...  LOCATION TAG4 X  LOCATION TAG4 Y  \\\n",
              "0                     -0.455638  ...         0.147947         0.811792   \n",
              "1                     -0.542260  ...         0.147947         0.812691   \n",
              "2                     -0.572130  ...         0.147947         0.814490   \n",
              "3                     -0.593039  ...         0.147947         0.816289   \n",
              "4                     -0.634857  ...         0.149055         0.818988   \n",
              "...                         ...  ...              ...              ...   \n",
              "606043                -0.067329  ...         0.129671         0.139901   \n",
              "606044                -0.195770  ...         0.129117         0.138102   \n",
              "606045                -0.195770  ...         0.129117         0.136303   \n",
              "606046                -0.276418  ...         0.129671         0.134504   \n",
              "606047                -0.106160  ...         0.130224         0.133605   \n",
              "\n",
              "        LOCATION TAG4 Z  Locomotion  HL_Activity  LL_Left_Arm  \\\n",
              "0              0.186199           0            0            0   \n",
              "1              0.178270           0            0            0   \n",
              "2              0.172322           0            0            0   \n",
              "3              0.172322           0            0            0   \n",
              "4              0.176287           0            0            0   \n",
              "...                 ...         ...          ...          ...   \n",
              "606043         0.208006           0            0            0   \n",
              "606044         0.206023           0            0            0   \n",
              "606045         0.202059           0            0            0   \n",
              "606046         0.200076           0            0            0   \n",
              "606047         0.198094           0            0            0   \n",
              "\n",
              "        LL_Left_Arm_Object  LL_Right_Arm  LL_Right_Arm_Object  ML_Both_Arms  \n",
              "0                        0             0                    0             0  \n",
              "1                        0             0                    0             0  \n",
              "2                        0             0                    0             0  \n",
              "3                        0             0                    0             0  \n",
              "4                        0             0                    0             0  \n",
              "...                    ...           ...                  ...           ...  \n",
              "606043                   0             0                    0             0  \n",
              "606044                   0             0                    0             0  \n",
              "606045                   0             0                    0             0  \n",
              "606046                   0             0                    0             0  \n",
              "606047                   0             0                    0             0  \n",
              "\n",
              "[606048 rows x 250 columns]"
            ]
          },
          "execution_count": 5,
          "metadata": {},
          "output_type": "execute_result"
        }
      ],
      "source": [
        "df = pd.read_csv(\"/content/drive/MyDrive/Robotique/preprocessed_data.csv\")\n",
        "\n",
        "df"
      ]
    },
    {
      "cell_type": "markdown",
      "metadata": {
        "id": "4aEEuOpBiY_O"
      },
      "source": [
        "# Fonctions diverses"
      ]
    },
    {
      "cell_type": "markdown",
      "metadata": {
        "id": "PFCBgbyWikoe"
      },
      "source": [
        "# Fonctions de feature selection"
      ]
    },
    {
      "cell_type": "code",
      "execution_count": 6,
      "metadata": {
        "id": "SWl-S_hWkaj3"
      },
      "outputs": [],
      "source": [
        "def dim_reduction(df, n):\n",
        "  pca = PCA(n_components=n)\n",
        "  pca.fit(df)\n",
        "  reducted_df = pca.fit_transform(df)\n",
        "  columns_name = ['column'+str(i) for i in range(1, pca.n_components_+1)]\n",
        "  return pd.DataFrame(reducted_df, columns=columns_name)\n"
      ]
    },
    {
      "cell_type": "code",
      "execution_count": 7,
      "metadata": {
        "id": "yAXrZ6fjXNW0"
      },
      "outputs": [],
      "source": [
        "def correlation(dataset, cor):\n",
        "    df = dataset.copy()\n",
        "    col_corr = set()  # For storing unique value\n",
        "    corr_matrix = dataset.corr()\n",
        "    for i in range(len(corr_matrix.columns)):\n",
        "        for j in range(i):\n",
        "            if abs(corr_matrix.iloc[i, j]) > cor: # absolute values to handle positive and negative correlations\n",
        "                colname = corr_matrix.columns[i]\n",
        "                col_corr.add(colname)\n",
        "    df.drop(col_corr,axis = 1,inplace = True)\n",
        "    return df"
      ]
    },
    {
      "cell_type": "markdown",
      "metadata": {
        "id": "y1RAFqUFipHU"
      },
      "source": [
        "## Fonction de segmentation du dataset  "
      ]
    },
    {
      "cell_type": "code",
      "execution_count": 8,
      "metadata": {
        "id": "ZnrUvuO-OAyJ"
      },
      "outputs": [],
      "source": [
        "def data_segmentation(dataCollection, window_size, label): # segment the data and create a dataset with locomotion classes as labels\n",
        "\n",
        "    loco_i = dataCollection.columns.get_loc(label)\n",
        "    #convert the data frame to numpy array\n",
        "    data = dataCollection.to_numpy()\n",
        "    #segment the data\n",
        "    n = len(data)\n",
        "    X = []\n",
        "    y = []\n",
        "    start = 0\n",
        "    end = 0\n",
        "\n",
        "    while start + window_size - 1 < n:\n",
        "        end = start + window_size-1\n",
        "        if data[start][loco_i] == data[end][loco_i] and data[start][-1] == data[end][-1] : # if the frame contains the same activity and from the file\n",
        "            X.append(data[start:(end+1),:])\n",
        "            y.append(data[start][loco_i])\n",
        "            start += window_size//2 # 50% overlap\n",
        "        else: # if the frame contains different activities or from different objects, find the next start point\n",
        "            while start + window_size-1 < n:\n",
        "                if data[start][loco_i] != data[start+1][loco_i]:\n",
        "                    break\n",
        "                start += 1\n",
        "            start += 1\n",
        "\n",
        "    return np.asarray(X), np.asarray(y)"
      ]
    },
    {
      "cell_type": "markdown",
      "metadata": {
        "id": "AfNaBl_yiwY6"
      },
      "source": [
        "## Fonction d'entrainement du modèle"
      ]
    },
    {
      "cell_type": "code",
      "execution_count": 27,
      "metadata": {
        "id": "tEX4GgSMOkV5"
      },
      "outputs": [],
      "source": [
        "def gru_model(X_train, y_train, X_val, y_val, nbn_l, nbn_d, lr, bs, dp, v):\n",
        "  nbn_l = int(nbn_l)\n",
        "  nbn_d = int(nbn_d)\n",
        "  bs = int(bs)\n",
        "  with tf.device(device_name):\n",
        "\n",
        "    model = Sequential()\n",
        "\n",
        "    model.add(GRU(units=nbn_l, activation='tanh', return_sequences=True, input_shape=X_train[0].shape))\n",
        "\n",
        "    model.add(GRU(units=nbn_l//2, activation='tanh', return_sequences=True, input_shape=X_train[0].shape))\n",
        "\n",
        "    model.add(GRU(units=nbn_l//4, activation='tanh', return_sequences=True, input_shape=X_train[0].shape))\n",
        "\n",
        "    model.add(GRU(units=nbn_l//8, activation='tanh'))\n",
        "\n",
        "    model.add(Flatten())\n",
        "    model.add(Dense(nbn_d, activation='elu'))\n",
        "    model.add(Dropout(dp))\n",
        "    model.add(Dense(nbn_l//2, activation='elu'))\n",
        "    model.add(Dropout(dp))\n",
        "    model.add(Dense(5, activation='softmax'))\n",
        "\n",
        "\n",
        "    model.compile(optimizer = Adam(learning_rate=lr),\n",
        "                  loss = 'categorical_crossentropy',\n",
        "                  metrics = ['accuracy'])\n",
        "\n",
        "    checkpointer = ModelCheckpoint(filepath='test.keras', monitor='accuracy', verbose=0, save_best_only=True, save_weights_only=False, mode='min', save_freq=1)\n",
        "    early = EarlyStopping(monitor='val_loss', min_delta=0, patience=5, mode='auto')\n",
        "\n",
        "    history = model.fit(X_train, y_train,\n",
        "                            batch_size=bs, epochs=100,\n",
        "                            verbose=v,\n",
        "                            callbacks = [checkpointer, early],\n",
        "                            validation_data=(X_val, y_val))\n",
        "\n",
        "    return history, model"
      ]
    },
    {
      "cell_type": "markdown",
      "metadata": {
        "id": "HdkiJ2GFi3dB"
      },
      "source": [
        "## Fonction de la pipeline à utiliser"
      ]
    },
    {
      "cell_type": "code",
      "execution_count": 28,
      "metadata": {
        "id": "TsI0ddB4YW4h"
      },
      "outputs": [],
      "source": [
        "def pipeline(method,tresh,nbn_l, nbn_d, lr, bs, dp):\n",
        "\n",
        "  if method <= 1:\n",
        "    dataset = dim_reduction(df[df.columns[:-7]], tresh)\n",
        "  elif method <= 2:\n",
        "    dataset = correlation(df[df.columns[:-7]], tresh)\n",
        "\n",
        "  labels = df[df.columns[-7:]]\n",
        "  dataset = pd.concat([dataset, labels], axis=1)\n",
        "\n",
        "  X, y = data_segmentation(dataCollection=dataset, window_size=25, label='HL_Activity')\n",
        "\n",
        "  y = to_categorical(y)\n",
        "\n",
        "  # split the data into train, validation and test sets using sklearn\n",
        "  X_train, X_test, y_train, y_test = train_test_split(X, y, shuffle=True, test_size=0.33)\n",
        "  X_test, X_val, y_test, y_val = train_test_split(X_test, y_test, shuffle=True, test_size=0.5)\n",
        "\n",
        "  history, model = gru_model(X_train, y_train, X_val, y_val, nbn_l, nbn_d, lr, bs, dp, 0)\n",
        "  acc = history.history['val_accuracy'][-1]\n",
        "\n",
        "  return acc"
      ]
    },
    {
      "cell_type": "markdown",
      "metadata": {
        "id": "W4xgFw_WjSI5"
      },
      "source": [
        "# Affinage de la pipeline via l'optimisation Bayesienne"
      ]
    },
    {
      "cell_type": "code",
      "execution_count": null,
      "metadata": {
        "colab": {
          "base_uri": "https://localhost:8080/"
        },
        "id": "xPxF_3gaVJdL",
        "outputId": "6b4b7377-843e-44ff-d3a3-fb9232b05536"
      },
      "outputs": [],
      "source": [
        "pbounds = {\n",
        "    'method': (0, 2),\n",
        "    'tresh': (0.1, 0.99),\n",
        "    'nbn_l': (256, 1024),\n",
        "    'nbn_d': (256, 1024),\n",
        "    'lr': (1e-6, 1e-2),\n",
        "    'bs': (32, 512),\n",
        "    'dp': (0.1, 0.5)\n",
        "    }\n",
        "\n",
        "\n",
        "optimizer = BayesianOptimization(\n",
        "    f=pipeline,\n",
        "    pbounds=pbounds,\n",
        "    verbose=2,\n",
        "    random_state=1,\n",
        ")\n",
        "\n",
        "optimizer.maximize(init_points=10, n_iter=10)\n",
        "print(optimizer.max)"
      ]
    },
    {
      "cell_type": "markdown",
      "metadata": {
        "id": "gqLJDXA4ja_m"
      },
      "source": [
        "# Préparation du dataset pour l'entrainement avec les hyperparamètres optimaux"
      ]
    },
    {
      "cell_type": "markdown",
      "metadata": {
        "id": "8_sm1mSNjmRd"
      },
      "source": [
        "## Feature selection"
      ]
    },
    {
      "cell_type": "code",
      "execution_count": null,
      "metadata": {
        "colab": {
          "base_uri": "https://localhost:8080/",
          "height": 461
        },
        "id": "l7dB2424jsyy",
        "outputId": "287df849-6e47-4fdd-ac6e-2e0527d64063"
      },
      "outputs": [],
      "source": [
        "method = optimizer.max['params']['method']\n",
        "tresh = optimizer.max['params']['tresh']\n",
        "\n",
        "if method <= 1:\n",
        "  dataset = dim_reduction(df[df.columns[:-7]], tresh)\n",
        "elif method <= 2:\n",
        "  dataset = correlation(df[df.columns[:-7]], tresh)\n",
        "\n",
        "labels = df[df.columns[-7:]]\n",
        "dataset = pd.concat([dataset, labels], axis=1)\n",
        "\n",
        "dataset"
      ]
    },
    {
      "cell_type": "markdown",
      "metadata": {
        "id": "5m8XjIrPj4T1"
      },
      "source": [
        "## Segmentation du dataset"
      ]
    },
    {
      "cell_type": "code",
      "execution_count": null,
      "metadata": {
        "colab": {
          "base_uri": "https://localhost:8080/"
        },
        "id": "FPdPaJFLj8k_",
        "outputId": "b12e68e3-1576-4c0d-eeb9-9af93fffae87"
      },
      "outputs": [],
      "source": [
        "X, y = data_segmentation(dataCollection=dataset, window_size=25, label='HL_Activity')\n",
        "\n",
        "X.shape, y.shape"
      ]
    },
    {
      "cell_type": "markdown",
      "metadata": {
        "id": "eB-ftj3XkEMZ"
      },
      "source": [
        "## Division des données en train, val et test sets"
      ]
    },
    {
      "cell_type": "code",
      "execution_count": null,
      "metadata": {
        "colab": {
          "base_uri": "https://localhost:8080/"
        },
        "id": "gMz0CaEzODOa",
        "outputId": "d5b3ba57-61bf-4955-db0a-7f59957c2f22"
      },
      "outputs": [],
      "source": [
        "# categorize the data\n",
        "y = to_categorical(y)\n",
        "\n",
        "# split the data into train, validation and test sets using sklearn\n",
        "X_train, X_test, y_train, y_test = train_test_split(X, y, shuffle=True, test_size=0.33)\n",
        "X_test, X_val, y_test, y_val = train_test_split(X_test, y_test, shuffle=True, test_size=0.5)\n",
        "\n",
        "# display the shape of the train, validation and test sets\n",
        "print(\"Shape of the train set: \", X_train.shape)\n",
        "print(\"Shape of the validation set: \", X_val.shape)\n",
        "print(\"Shape of the test set: \", X_test.shape)\n",
        "\n",
        "# display the shape of the train, validation and test sets\n",
        "print(\"Shape of the train set: \", y_train.shape)\n",
        "print(\"Shape of the validation set: \", y_val.shape)\n",
        "print(\"Shape of the test set: \", y_test.shape)"
      ]
    },
    {
      "cell_type": "markdown",
      "metadata": {
        "id": "slwKyC4ikWAE"
      },
      "source": [
        "# Entrainement du dataset avec les hyperparamètres optimaux"
      ]
    },
    {
      "cell_type": "code",
      "execution_count": null,
      "metadata": {
        "colab": {
          "base_uri": "https://localhost:8080/"
        },
        "id": "qoD3_bW5ck_v",
        "outputId": "170ae848-0329-4efc-d309-082c2d865805"
      },
      "outputs": [],
      "source": [
        "nbn_l = optimizer.max['params']['nbn_l']\n",
        "nbn_d = optimizer.max['params']['nbn_d']\n",
        "lr = optimizer.max['params']['lr']\n",
        "dp = optimizer.max['params']['dp']\n",
        "bs =optimizer.max['params']['bs']\n",
        "\n",
        "history, model = gru_model(X_train, y_train, X_val, y_val, nbn_l, nbn_d, lr, bs, dp, 2)"
      ]
    },
    {
      "cell_type": "markdown",
      "metadata": {
        "id": "QhKe5ywkkcKK"
      },
      "source": [
        "# Evaluation du modèle"
      ]
    },
    {
      "cell_type": "code",
      "execution_count": null,
      "metadata": {
        "colab": {
          "base_uri": "https://localhost:8080/"
        },
        "id": "lK9_L7TgQAg3",
        "outputId": "8648de9f-86bd-4f0a-c4a5-481c91ee76a1"
      },
      "outputs": [],
      "source": [
        "score = model.evaluate(X_test, y_test, verbose=0)\n",
        "print('Test loss:', score[0])\n",
        "print('Test accuracy:', score[1])"
      ]
    },
    {
      "cell_type": "code",
      "execution_count": null,
      "metadata": {
        "colab": {
          "base_uri": "https://localhost:8080/",
          "height": 693
        },
        "id": "e1jDJRlRQEaB",
        "outputId": "200dd07f-350d-4d05-e388-f45fb8d74ff6"
      },
      "outputs": [],
      "source": [
        "plt.figure(figsize=(12, 8))\n",
        "plt.plot(history.history['accuracy'], label='Accuracy')\n",
        "plt.plot(history.history['val_accuracy'], label='Validation Accuracy')\n",
        "plt.plot(history.history['loss'], label='Loss')\n",
        "plt.plot(history.history['val_loss'], label='Validation Loss')\n",
        "plt.legend()"
      ]
    },
    {
      "cell_type": "code",
      "execution_count": null,
      "metadata": {
        "colab": {
          "base_uri": "https://localhost:8080/",
          "height": 841
        },
        "id": "RHeWoDNDQIDr",
        "outputId": "f0c9a9c1-8a7c-4579-c909-f8c886a19139"
      },
      "outputs": [],
      "source": [
        "y_pred = model.predict(X_test)\n",
        "\n",
        "y_pred = np.argmax(y_pred, axis=1)\n",
        "y_test = np.argmax(y_test, axis=1)\n",
        "\n",
        "cm = confusion_matrix(y_test, y_pred)\n",
        "\n",
        "plt.figure(figsize=(12, 8))\n",
        "sns.heatmap(cm, annot=True, fmt='d')\n",
        "plt.xticks(np.arange(5)+0.5, ['Relaxing', 'Coffee time', 'Early morning', 'Cleanup', 'Sandwich time'], rotation=90)\n",
        "plt.yticks(np.arange(5)+0.5, ['Relaxing', 'Coffee time', 'Early morning', 'Cleanup', 'Sandwich time'], rotation=0)\n",
        "plt.xlabel('Predicted')\n",
        "plt.ylabel('Truth')\n",
        "plt.title(\"Confusion Matrix\")"
      ]
    },
    {
      "cell_type": "code",
      "execution_count": null,
      "metadata": {
        "colab": {
          "base_uri": "https://localhost:8080/"
        },
        "id": "7wls-W7EQM7l",
        "outputId": "74ba3f2f-ec15-43fc-a893-adf54b6161f9"
      },
      "outputs": [],
      "source": [
        "classification_report(y_test, y_pred).split(\"\\n\")"
      ]
    }
  ],
  "metadata": {
    "accelerator": "GPU",
    "colab": {
      "gpuType": "T4",
      "provenance": []
    },
    "kernelspec": {
      "display_name": "Python 3",
      "name": "python3"
    },
    "language_info": {
      "name": "python"
    }
  },
  "nbformat": 4,
  "nbformat_minor": 0
}
